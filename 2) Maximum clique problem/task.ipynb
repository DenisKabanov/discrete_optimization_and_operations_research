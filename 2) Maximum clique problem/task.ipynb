{
 "cells": [
  {
   "cell_type": "markdown",
   "metadata": {},
   "source": [
    "# Дополнительный функционал (настройки)"
   ]
  },
  {
   "cell_type": "code",
   "execution_count": 1,
   "metadata": {},
   "outputs": [],
   "source": [
    "runs = 10 # число запусков для подсчёта среднего времени\n",
    "iterations = 75000 # сколько итераций должно пройти без улучшения ответа, чтобы алгоритм вернул текущий лучший"
   ]
  },
  {
   "cell_type": "markdown",
   "metadata": {},
   "source": [
    "## Imports"
   ]
  },
  {
   "cell_type": "code",
   "execution_count": 2,
   "metadata": {},
   "outputs": [],
   "source": [
    "import time # для подсчёта времени работы\n",
    "import csv # для сохранения ответов\n",
    "import pandas as pd # для вывода таблицы (v 2.1.1)\n",
    "import random # для рандомизированного алгоритма\n",
    "from tqdm import tqdm # для обёртки итераций между датасетами\n",
    "\n",
    "import warnings # для скрития предупреждения о deprecated\n",
    "warnings.simplefilter(action='ignore', category=FutureWarning)"
   ]
  },
  {
   "cell_type": "markdown",
   "metadata": {},
   "source": [
    "## Вспомогательные функции (не участвуют в коде эвристик)"
   ]
  },
  {
   "cell_type": "code",
   "execution_count": 3,
   "metadata": {},
   "outputs": [],
   "source": [
    "# вспомогательная функция для преобразования ответа (сортировка вершин клики в порядке возрастания)\n",
    "def transform_answer(solution): # на вход solution вида (размер клики, [вершины в клике])\n",
    "    for i in range(solution[0]):\n",
    "        solution[1][i] += 1\n",
    "    return [solution[0], sorted(solution[1])]"
   ]
  },
  {
   "cell_type": "code",
   "execution_count": 4,
   "metadata": {},
   "outputs": [],
   "source": [
    "# # вспомогательная функция для проверки корректности полученного ответа\n",
    "def check_solution(edges: dict, solution): # на вход словари edges с рёбрами и solution вида (размер клики, [вершины в клике])\n",
    "    for i in range(solution[0]-1): # идём по вершинам и проверяем, смежны ли она со всеми остальными вершинами в найденной клике\n",
    "        for j in range(i+1, solution[0]):\n",
    "            if solution[1][j]-1 not in edges[solution[1][i]-1]: # проверяем наличие ребра (-1 чтобы работать с вершинами, так как их нумерация до вызова transform_answer шла с нуля)\n",
    "                raise RuntimeError(\"Clique contains unconnected vertices!\")"
   ]
  },
  {
   "cell_type": "code",
   "execution_count": 18,
   "metadata": {},
   "outputs": [],
   "source": [
    "# вспомогательная функция для сохранения ответов в csv формате\n",
    "def save_solution(solutions): # solutions - словарь всех полученных ответов\n",
    "    for dataset in solutions.keys(): # идём по тест-кейсам\n",
    "        with open(f'solutions/{dataset}.csv', 'w', newline='') as file:\n",
    "            writer = csv.writer(file) # создаём объект для записи\n",
    "            writer.writerow([solutions[dataset][\"clique_size\"]]) # сохраняем размер клики\n",
    "            writer.writerows([solutions[dataset][\"clique\"]]) # сохраняем вершины клики\n",
    "    \n",
    "    # сохранение таблицы в csv формате\n",
    "    table = pd.DataFrame(data = [], columns=[\"Instance\", \"Time, sec\", \"Clique size\", \"Clique vertices\"])\n",
    "    for dataset in solutions.keys(): # идём по тест-кейсам\n",
    "        testcase = pd.DataFrame(data = [[dataset, solutions[dataset][\"time\"], solutions[dataset][\"clique_size\"], solutions[dataset][\"clique\"]]], columns=[\"Instance\", \"Time, sec\", \"Clique size\", \"Clique vertices\"])\n",
    "        table = pd.concat([table, testcase], ignore_index=True)\n",
    "    table.to_csv(\"best_solution.csv\", index=False)"
   ]
  },
  {
   "cell_type": "code",
   "execution_count": 6,
   "metadata": {},
   "outputs": [],
   "source": [
    "# вспомогательная функция для вывода таблицы результатов\n",
    "def show_results(solutions): # solutions - словарь всех полученных ответов\n",
    "    table = pd.DataFrame(data = [], columns=[\"Instance\", \"Time, sec\", \"Clique size\", \"Clique vertices\"])\n",
    "    for dataset in solutions.keys(): # идём по тест-кейсам\n",
    "        testcase = pd.DataFrame(data = [[dataset, solutions[dataset][\"time\"], solutions[dataset][\"clique_size\"], solutions[dataset][\"clique\"]]], columns=[\"Instance\", \"Time, sec\", \"Clique size\", \"Clique vertices\"])\n",
    "        table = pd.concat([table, testcase], ignore_index=True)\n",
    "    display(table.style.hide()) # скрываем отображение индексов строк таблицы"
   ]
  },
  {
   "cell_type": "markdown",
   "metadata": {},
   "source": [
    "# Получение данных"
   ]
  },
  {
   "cell_type": "code",
   "execution_count": 7,
   "metadata": {},
   "outputs": [],
   "source": [
    "files = [\"brock200_1\", \"brock200_2\", \"brock200_3\", \"brock200_4\", \"brock400_1\", \"brock400_2\", \"brock400_3\", \"brock400_4\", \"C125.9\", \"gen200_p0.9_44\", \"gen200_p0.9_55\", \"hamming8-4\", \"johnson16-2-4\", \"johnson8-2-4\", \"keller4\", \"MANN_a27\", \"MANN_a9\", \"p_hat1000-1\", \"p_hat1000-2\", \"p_hat1500-1\", \"p_hat300-3\", \"p_hat500-3\", \"san1000\", \"sanr200_0.9\", \"sanr400_0.7\"] # файлы, на которых должен быть протестирован код"
   ]
  },
  {
   "cell_type": "code",
   "execution_count": 8,
   "metadata": {},
   "outputs": [],
   "source": [
    "data = {} \n",
    "# data - словарь вида \n",
    "# {\"название датасета\" : \n",
    "#     {\"vertex_num\": число вершин, \n",
    "#     \"edge_num\": число рёбер, \n",
    "#     \"edges\": \n",
    "#         {словарь вида вершина - set смежных ей вершин}\n",
    "#     }\n",
    "#  ...\n",
    "# }"
   ]
  },
  {
   "cell_type": "code",
   "execution_count": 9,
   "metadata": {},
   "outputs": [],
   "source": [
    "for file in files:\n",
    "    data[file] = {\"vertex_num\": None, \"edge_num\": None, \"edges\": {}}\n",
    "    with open(\"data/\" + file + \".clq\", \"r\") as f: # открываем файл для чтения\n",
    "        for row in f: # проходим по строкам\n",
    "            if row[0] == \"c\": # если строка начинается с буквы \"c\" - это комментарий, пропускае строку\n",
    "                continue\n",
    "            elif row[0] == \"p\": # если строка начинается с буквы \"p\" - это описание проблемы, берём из этой строки число вершин и рёбер (последние два числа)\n",
    "                data[file][\"vertex_num\"], data[file][\"edge_num\"] = int(row.split()[-2]), int(row.split()[-1])\n",
    "            elif row[0] == \"e\": # если строка начинается с буквы \"p\" - это вершины, между которыми есть ребро\n",
    "                v1, v2 = int(row.split()[-2]) - 1, int(row.split()[-1]) - 1 # запоминаем вершины (-1, чтобы не было мороки с индексацией)\n",
    "\n",
    "                # добавляем связь вершины v1 с v2\n",
    "                if v1 not in data[file][\"edges\"].keys(): # если это первое упоминание вершины v1 - создадим для неё set с указанием v2\n",
    "                    data[file][\"edges\"][v1] = {v2}\n",
    "                elif v2 not in data[file][\"edges\"][v1]: # иначе - просто добавим v2 в set смежных вершин v1\n",
    "                    data[file][\"edges\"][v1].add(v2)\n",
    "\n",
    "                # аналогично, но относительно вершины v2\n",
    "                if v2 not in data[file][\"edges\"].keys():\n",
    "                    data[file][\"edges\"][v2] = {v1}\n",
    "                elif v1 not in data[file][\"edges\"][v2]:\n",
    "                    data[file][\"edges\"][v2].add(v1)\n",
    "        data[file][\"edges\"] = dict(sorted(data[file][\"edges\"].items())) # отсортируем вершины"
   ]
  },
  {
   "cell_type": "code",
   "execution_count": 10,
   "metadata": {},
   "outputs": [
    {
     "data": {
      "text/plain": [
       "{'vertex_num': 28,\n",
       " 'edge_num': 210,\n",
       " 'edges': {0: {5, 8, 9, 12, 13, 14, 17, 18, 19, 20, 23, 24, 25, 26, 27},\n",
       "  1: {4, 7, 9, 11, 13, 14, 16, 18, 19, 20, 22, 24, 25, 26, 27},\n",
       "  2: {3, 6, 9, 10, 13, 14, 15, 18, 19, 20, 21, 24, 25, 26, 27},\n",
       "  3: {2, 7, 8, 11, 12, 14, 16, 17, 19, 20, 22, 23, 25, 26, 27},\n",
       "  4: {1, 6, 8, 10, 12, 14, 15, 17, 19, 20, 21, 23, 25, 26, 27},\n",
       "  5: {0, 6, 7, 10, 11, 14, 15, 16, 19, 20, 21, 22, 25, 26, 27},\n",
       "  6: {2, 4, 5, 11, 12, 13, 16, 17, 18, 20, 22, 23, 24, 26, 27},\n",
       "  7: {1, 3, 5, 10, 12, 13, 15, 17, 18, 20, 21, 23, 24, 26, 27},\n",
       "  8: {0, 3, 4, 10, 11, 13, 15, 16, 18, 20, 21, 22, 24, 26, 27},\n",
       "  9: {0, 1, 2, 10, 11, 12, 15, 16, 17, 20, 21, 22, 23, 26, 27},\n",
       "  10: {2, 4, 5, 7, 8, 9, 16, 17, 18, 19, 22, 23, 24, 25, 27},\n",
       "  11: {1, 3, 5, 6, 8, 9, 15, 17, 18, 19, 21, 23, 24, 25, 27},\n",
       "  12: {0, 3, 4, 6, 7, 9, 15, 16, 18, 19, 21, 22, 24, 25, 27},\n",
       "  13: {0, 1, 2, 6, 7, 8, 15, 16, 17, 19, 21, 22, 23, 25, 27},\n",
       "  14: {0, 1, 2, 3, 4, 5, 15, 16, 17, 18, 21, 22, 23, 24, 27},\n",
       "  15: {2, 4, 5, 7, 8, 9, 11, 12, 13, 14, 22, 23, 24, 25, 26},\n",
       "  16: {1, 3, 5, 6, 8, 9, 10, 12, 13, 14, 21, 23, 24, 25, 26},\n",
       "  17: {0, 3, 4, 6, 7, 9, 10, 11, 13, 14, 21, 22, 24, 25, 26},\n",
       "  18: {0, 1, 2, 6, 7, 8, 10, 11, 12, 14, 21, 22, 23, 25, 26},\n",
       "  19: {0, 1, 2, 3, 4, 5, 10, 11, 12, 13, 21, 22, 23, 24, 26},\n",
       "  20: {0, 1, 2, 3, 4, 5, 6, 7, 8, 9, 21, 22, 23, 24, 25},\n",
       "  21: {2, 4, 5, 7, 8, 9, 11, 12, 13, 14, 16, 17, 18, 19, 20},\n",
       "  22: {1, 3, 5, 6, 8, 9, 10, 12, 13, 14, 15, 17, 18, 19, 20},\n",
       "  23: {0, 3, 4, 6, 7, 9, 10, 11, 13, 14, 15, 16, 18, 19, 20},\n",
       "  24: {0, 1, 2, 6, 7, 8, 10, 11, 12, 14, 15, 16, 17, 19, 20},\n",
       "  25: {0, 1, 2, 3, 4, 5, 10, 11, 12, 13, 15, 16, 17, 18, 20},\n",
       "  26: {0, 1, 2, 3, 4, 5, 6, 7, 8, 9, 15, 16, 17, 18, 19},\n",
       "  27: {0, 1, 2, 3, 4, 5, 6, 7, 8, 9, 10, 11, 12, 13, 14}}}"
      ]
     },
     "execution_count": 10,
     "metadata": {},
     "output_type": "execute_result"
    }
   ],
   "source": [
    "data[\"johnson8-2-4\"] # пример данных"
   ]
  },
  {
   "cell_type": "markdown",
   "metadata": {},
   "source": [
    "# Реализация эвристики"
   ]
  },
  {
   "cell_type": "markdown",
   "metadata": {},
   "source": [
    "### Greedy randomized maximum clique — простейшая реализация случайного (с учётом начальной степени вершин) алгоритма нахождения максимальной клики. В клику заносятся допустимые вершины (кандидаты) с вероятностями, пропорциональными изначальному количеству их соседей (то есть степени не пересчитываются при добавлении)."
   ]
  },
  {
   "cell_type": "code",
   "execution_count": 11,
   "metadata": {},
   "outputs": [],
   "source": [
    "def randomized_greedy_max_clique(edges:dict, iterations=10):\n",
    "    \"\"\"\n",
    "    Функция для получения начального рандомизированного решения задачи о максимальной клике.\\n\n",
    "    Parameters:\n",
    "        * edges: словарь смежных вершинам вершин\n",
    "        * iterations: через сколько попыток без улучшения решения выходить из алгоритма\n",
    "    Returns:\n",
    "        * tuple: (размер лучшей найденной клики, список вершин в этой клике)\n",
    "    \"\"\"\n",
    "    # памятка - размер клики не может быть больше числа вешин\n",
    "\n",
    "    original_candidates = set(edges.keys()) # set вершин (изначально все являются кандидатами в клику)\n",
    "    original_candidates_degrees = [len(edges[v]) for v in original_candidates] # создаём список степеней вершин (индекс - номер вершины, так как ожидается, что на входе edges остортирован в порядке увеличения номера вершины)\n",
    "\n",
    "    attempts = 0 # текущее число попыток\n",
    "    best_clique = [] # текущая лучшая клика\n",
    "\n",
    "    while attempts < iterations: # запускаем алгоритм, пока число попыток без изменения результата не превысит счётчик iterations\n",
    "        clique = [] # создаём \"пустую\" клику\n",
    "        candidates = original_candidates.copy() # копируем всех кандидатов\n",
    "        while len(candidates) != 0: # пока есть кандидаты — пытаемся добавить их в клику\n",
    "            candidates_degrees = [original_candidates_degrees[i] for i in candidates] # пересчитываем степени кандидатов (оставляем степени только рассматриваемых вершин) для итерациии случайного выбора\n",
    "            \n",
    "            v = random.choices(population=list(candidates), weights=candidates_degrees, k=1)[0] # случайным образом выбираем вершину в клику в соответствии с её степенью (чем больше степень относительно других вершин — тем выше вероятность) (переводим candidates в список для случайного выбора)\n",
    "            clique.append(v) # добавляем её в клику\n",
    "\n",
    "            candidates = candidates.intersection(edges[v]) # среди кандидитов оставляем только тех, кто смежен со всеми вершинами в текущей клике (итеративно этот список постоянно уменьшается с добавлением новых вершин в клику)\n",
    "\n",
    "        if len(clique) > len(best_clique): # если нашли новую лучшую клику, то запоминаем её\n",
    "            best_clique = clique.copy()\n",
    "            attempts = 0 # обнуляем число итераций без улучшения решения\n",
    "        else:\n",
    "            attempts += 1 # увеличиваем число итераций без улучшения решения\n",
    "\n",
    "    return len(best_clique), best_clique # возвращаем размер лучшей клики и её саму"
   ]
  },
  {
   "cell_type": "code",
   "execution_count": null,
   "metadata": {},
   "outputs": [],
   "source": [
    "# тестирование времени работы \n",
    "\n",
    "# time_start = time.time() # замеряем время начала выполнения\n",
    "# for i in range(5): # делаем 10 запусков для усреднения времени\n",
    "#     sol = randomized_greedy_max_clique(data[\"brock200_4\"][\"edges\"], iterations=100000)\n",
    "# time_end = time.time() - time_start # считаем, сколько работал алгоритм\n",
    "# print(time_end/5)\n",
    "\n",
    "# print(Counter(random.choices(candidates, weights=candidates_degrees)[0]\n",
    "#     for _ in range(100000)))"
   ]
  },
  {
   "cell_type": "markdown",
   "metadata": {},
   "source": [
    "#### Тестирование"
   ]
  },
  {
   "cell_type": "code",
   "execution_count": 14,
   "metadata": {},
   "outputs": [
    {
     "name": "stderr",
     "output_type": "stream",
     "text": [
      "  0%|          | 0/25 [00:00<?, ?it/s]"
     ]
    },
    {
     "name": "stderr",
     "output_type": "stream",
     "text": [
      "100%|██████████| 25/25 [3:34:26<00:00, 514.66s/it]   \n"
     ]
    }
   ],
   "source": [
    "solutions_1 = {} \n",
    "# словарь для ответов первого варианта жадной эвристики вида\n",
    "# {\"название датасета\" : \n",
    "#     {\"clique_size\": размер клики,\n",
    "#      \"clique\": [вершины, входящие в клику],\n",
    "#      \"time\": время на подсчёт\n",
    "#     }\n",
    "# }\n",
    "\n",
    "for dataset in tqdm(data.keys()): # идём по тест-кейсам\n",
    "    time_start = time.time() # замеряем время начала выполнения\n",
    "    for i in range(runs): # делаем 10 запусков для усреднения времени\n",
    "        sol = randomized_greedy_max_clique(data[dataset][\"edges\"], iterations=iterations)\n",
    "    time_end = time.time() - time_start # считаем, сколько работал алгоритм\n",
    "    # print(\"original solution\", sol)\n",
    "    sol = transform_answer(sol) # сортирует вершины клики в порядке возрастания их номера и возвращает нумерацию с единицы\n",
    "    check_solution(data[dataset][\"edges\"], sol) # проверка решения\n",
    "    # print(\"transformed solution\", sol)\n",
    "    solutions_1[dataset] = {\"clique_size\": sol[0], \"clique\": sol[1], \"time\": time_end/runs}"
   ]
  },
  {
   "cell_type": "markdown",
   "metadata": {},
   "source": [
    "#### Вывод результатов"
   ]
  },
  {
   "cell_type": "code",
   "execution_count": 15,
   "metadata": {},
   "outputs": [
    {
     "data": {
      "text/html": [
       "<style type=\"text/css\">\n",
       "</style>\n",
       "<table id=\"T_8832f\">\n",
       "  <thead>\n",
       "    <tr>\n",
       "      <th id=\"T_8832f_level0_col0\" class=\"col_heading level0 col0\" >Instance</th>\n",
       "      <th id=\"T_8832f_level0_col1\" class=\"col_heading level0 col1\" >Time, sec</th>\n",
       "      <th id=\"T_8832f_level0_col2\" class=\"col_heading level0 col2\" >Clique size</th>\n",
       "      <th id=\"T_8832f_level0_col3\" class=\"col_heading level0 col3\" >Clique vertices</th>\n",
       "    </tr>\n",
       "  </thead>\n",
       "  <tbody>\n",
       "    <tr>\n",
       "      <td id=\"T_8832f_row0_col0\" class=\"data row0 col0\" >brock200_1</td>\n",
       "      <td id=\"T_8832f_row0_col1\" class=\"data row0 col1\" >22.352904</td>\n",
       "      <td id=\"T_8832f_row0_col2\" class=\"data row0 col2\" >21</td>\n",
       "      <td id=\"T_8832f_row0_col3\" class=\"data row0 col3\" >[18, 20, 39, 68, 73, 81, 85, 87, 90, 92, 93, 94, 102, 108, 134, 135, 136, 142, 150, 178, 186]</td>\n",
       "    </tr>\n",
       "    <tr>\n",
       "      <td id=\"T_8832f_row1_col0\" class=\"data row1 col0\" >brock200_2</td>\n",
       "      <td id=\"T_8832f_row1_col1\" class=\"data row1 col1\" >7.868299</td>\n",
       "      <td id=\"T_8832f_row1_col2\" class=\"data row1 col2\" >12</td>\n",
       "      <td id=\"T_8832f_row1_col3\" class=\"data row1 col3\" >[27, 48, 55, 70, 105, 120, 121, 135, 145, 149, 158, 183]</td>\n",
       "    </tr>\n",
       "    <tr>\n",
       "      <td id=\"T_8832f_row2_col0\" class=\"data row2 col0\" >brock200_3</td>\n",
       "      <td id=\"T_8832f_row2_col1\" class=\"data row2 col1\" >10.703800</td>\n",
       "      <td id=\"T_8832f_row2_col2\" class=\"data row2 col2\" >15</td>\n",
       "      <td id=\"T_8832f_row2_col3\" class=\"data row2 col3\" >[12, 29, 36, 38, 58, 84, 97, 98, 104, 118, 130, 144, 158, 173, 178]</td>\n",
       "    </tr>\n",
       "    <tr>\n",
       "      <td id=\"T_8832f_row3_col0\" class=\"data row3 col0\" >brock200_4</td>\n",
       "      <td id=\"T_8832f_row3_col1\" class=\"data row3 col1\" >14.921686</td>\n",
       "      <td id=\"T_8832f_row3_col2\" class=\"data row3 col2\" >17</td>\n",
       "      <td id=\"T_8832f_row3_col3\" class=\"data row3 col3\" >[12, 19, 28, 29, 38, 54, 65, 71, 79, 93, 117, 127, 139, 161, 165, 186, 192]</td>\n",
       "    </tr>\n",
       "    <tr>\n",
       "      <td id=\"T_8832f_row4_col0\" class=\"data row4 col0\" >brock400_1</td>\n",
       "      <td id=\"T_8832f_row4_col1\" class=\"data row4 col1\" >38.695953</td>\n",
       "      <td id=\"T_8832f_row4_col2\" class=\"data row4 col2\" >23</td>\n",
       "      <td id=\"T_8832f_row4_col3\" class=\"data row4 col3\" >[38, 46, 52, 62, 110, 122, 125, 128, 131, 141, 185, 192, 213, 218, 231, 247, 290, 295, 331, 333, 361, 368, 372]</td>\n",
       "    </tr>\n",
       "    <tr>\n",
       "      <td id=\"T_8832f_row5_col0\" class=\"data row5 col0\" >brock400_2</td>\n",
       "      <td id=\"T_8832f_row5_col1\" class=\"data row5 col1\" >44.406454</td>\n",
       "      <td id=\"T_8832f_row5_col2\" class=\"data row5 col2\" >23</td>\n",
       "      <td id=\"T_8832f_row5_col3\" class=\"data row5 col3\" >[35, 53, 69, 84, 86, 130, 143, 144, 153, 165, 168, 177, 205, 208, 219, 251, 261, 280, 296, 319, 326, 361, 377]</td>\n",
       "    </tr>\n",
       "    <tr>\n",
       "      <td id=\"T_8832f_row6_col0\" class=\"data row6 col0\" >brock400_3</td>\n",
       "      <td id=\"T_8832f_row6_col1\" class=\"data row6 col1\" >45.493802</td>\n",
       "      <td id=\"T_8832f_row6_col2\" class=\"data row6 col2\" >31</td>\n",
       "      <td id=\"T_8832f_row6_col3\" class=\"data row6 col3\" >[18, 20, 39, 68, 73, 85, 90, 92, 93, 102, 108, 134, 135, 142, 150, 178, 186, 207, 221, 223, 234, 252, 260, 262, 276, 304, 311, 348, 365, 380, 388]</td>\n",
       "    </tr>\n",
       "    <tr>\n",
       "      <td id=\"T_8832f_row7_col0\" class=\"data row7 col0\" >brock400_4</td>\n",
       "      <td id=\"T_8832f_row7_col1\" class=\"data row7 col1\" >49.450677</td>\n",
       "      <td id=\"T_8832f_row7_col2\" class=\"data row7 col2\" >23</td>\n",
       "      <td id=\"T_8832f_row7_col3\" class=\"data row7 col3\" >[26, 33, 97, 166, 180, 189, 192, 193, 226, 227, 234, 238, 247, 248, 255, 300, 314, 316, 317, 344, 376, 382, 385]</td>\n",
       "    </tr>\n",
       "    <tr>\n",
       "      <td id=\"T_8832f_row8_col0\" class=\"data row8 col0\" >C125.9</td>\n",
       "      <td id=\"T_8832f_row8_col1\" class=\"data row8 col1\" >36.497941</td>\n",
       "      <td id=\"T_8832f_row8_col2\" class=\"data row8 col2\" >34</td>\n",
       "      <td id=\"T_8832f_row8_col3\" class=\"data row8 col3\" >[1, 5, 7, 9, 11, 19, 25, 29, 31, 34, 44, 45, 49, 50, 52, 55, 65, 66, 68, 70, 77, 80, 85, 91, 96, 98, 99, 103, 104, 110, 114, 117, 122, 125]</td>\n",
       "    </tr>\n",
       "    <tr>\n",
       "      <td id=\"T_8832f_row9_col0\" class=\"data row9 col0\" >gen200_p0.9_44</td>\n",
       "      <td id=\"T_8832f_row9_col1\" class=\"data row9 col1\" >68.102977</td>\n",
       "      <td id=\"T_8832f_row9_col2\" class=\"data row9 col2\" >37</td>\n",
       "      <td id=\"T_8832f_row9_col3\" class=\"data row9 col3\" >[2, 13, 16, 20, 23, 27, 38, 51, 52, 58, 65, 72, 75, 86, 94, 96, 97, 100, 102, 108, 117, 120, 127, 138, 139, 141, 144, 146, 150, 151, 153, 166, 170, 175, 180, 186, 195]</td>\n",
       "    </tr>\n",
       "    <tr>\n",
       "      <td id=\"T_8832f_row10_col0\" class=\"data row10 col0\" >gen200_p0.9_55</td>\n",
       "      <td id=\"T_8832f_row10_col1\" class=\"data row10 col1\" >73.909194</td>\n",
       "      <td id=\"T_8832f_row10_col2\" class=\"data row10 col2\" >51</td>\n",
       "      <td id=\"T_8832f_row10_col3\" class=\"data row10 col3\" >[5, 6, 12, 14, 15, 19, 21, 25, 26, 27, 30, 33, 35, 41, 45, 62, 67, 69, 73, 76, 77, 78, 79, 82, 86, 88, 89, 91, 93, 95, 96, 107, 111, 113, 116, 117, 123, 129, 144, 146, 147, 159, 163, 164, 169, 177, 182, 187, 192, 197, 199]</td>\n",
       "    </tr>\n",
       "    <tr>\n",
       "      <td id=\"T_8832f_row11_col0\" class=\"data row11 col0\" >hamming8-4</td>\n",
       "      <td id=\"T_8832f_row11_col1\" class=\"data row11 col1\" >11.881665</td>\n",
       "      <td id=\"T_8832f_row11_col2\" class=\"data row11 col2\" >16</td>\n",
       "      <td id=\"T_8832f_row11_col3\" class=\"data row11 col3\" >[11, 21, 46, 52, 66, 96, 103, 121, 136, 154, 161, 191, 205, 211, 236, 246]</td>\n",
       "    </tr>\n",
       "    <tr>\n",
       "      <td id=\"T_8832f_row12_col0\" class=\"data row12 col0\" >johnson16-2-4</td>\n",
       "      <td id=\"T_8832f_row12_col1\" class=\"data row12 col1\" >8.749102</td>\n",
       "      <td id=\"T_8832f_row12_col2\" class=\"data row12 col2\" >8</td>\n",
       "      <td id=\"T_8832f_row12_col3\" class=\"data row12 col3\" >[11, 32, 38, 50, 73, 86, 103, 108]</td>\n",
       "    </tr>\n",
       "    <tr>\n",
       "      <td id=\"T_8832f_row13_col0\" class=\"data row13 col0\" >johnson8-2-4</td>\n",
       "      <td id=\"T_8832f_row13_col1\" class=\"data row13 col1\" >2.104000</td>\n",
       "      <td id=\"T_8832f_row13_col2\" class=\"data row13 col2\" >4</td>\n",
       "      <td id=\"T_8832f_row13_col3\" class=\"data row13 col3\" >[4, 8, 21, 24]</td>\n",
       "    </tr>\n",
       "    <tr>\n",
       "      <td id=\"T_8832f_row14_col0\" class=\"data row14 col0\" >keller4</td>\n",
       "      <td id=\"T_8832f_row14_col1\" class=\"data row14 col1\" >8.142001</td>\n",
       "      <td id=\"T_8832f_row14_col2\" class=\"data row14 col2\" >11</td>\n",
       "      <td id=\"T_8832f_row14_col3\" class=\"data row14 col3\" >[2, 11, 15, 17, 35, 62, 81, 83, 91, 109, 118]</td>\n",
       "    </tr>\n",
       "    <tr>\n",
       "      <td id=\"T_8832f_row15_col0\" class=\"data row15 col0\" >MANN_a27</td>\n",
       "      <td id=\"T_8832f_row15_col1\" class=\"data row15 col1\" >420.154266</td>\n",
       "      <td id=\"T_8832f_row15_col2\" class=\"data row15 col2\" >125</td>\n",
       "      <td id=\"T_8832f_row15_col3\" class=\"data row15 col3\" >[1, 4, 6, 9, 12, 13, 19, 21, 23, 29, 32, 34, 38, 42, 43, 46, 49, 52, 57, 58, 61, 64, 69, 71, 73, 76, 81, 82, 87, 89, 91, 94, 99, 101, 103, 106, 111, 113, 115, 120, 122, 126, 128, 130, 135, 137, 141, 142, 147, 150, 153, 155, 159, 161, 165, 167, 169, 174, 176, 178, 182, 185, 187, 191, 195, 197, 201, 203, 205, 209, 211, 214, 217, 222, 225, 228, 231, 232, 236, 240, 243, 244, 247, 251, 253, 257, 260, 264, 266, 269, 272, 274, 278, 282, 288, 290, 294, 296, 300, 303, 304, 308, 310, 315, 316, 321, 324, 326, 329, 333, 336, 337, 340, 343, 346, 350, 353, 356, 358, 363, 364, 369, 371, 374, 377]</td>\n",
       "    </tr>\n",
       "    <tr>\n",
       "      <td id=\"T_8832f_row16_col0\" class=\"data row16 col0\" >MANN_a9</td>\n",
       "      <td id=\"T_8832f_row16_col1\" class=\"data row16 col1\" >9.480903</td>\n",
       "      <td id=\"T_8832f_row16_col2\" class=\"data row16 col2\" >16</td>\n",
       "      <td id=\"T_8832f_row16_col3\" class=\"data row16 col3\" >[1, 2, 7, 9, 12, 13, 17, 20, 23, 26, 29, 32, 36, 38, 40, 43]</td>\n",
       "    </tr>\n",
       "    <tr>\n",
       "      <td id=\"T_8832f_row17_col0\" class=\"data row17 col0\" >p_hat1000-1</td>\n",
       "      <td id=\"T_8832f_row17_col1\" class=\"data row17 col1\" >27.978178</td>\n",
       "      <td id=\"T_8832f_row17_col2\" class=\"data row17 col2\" >10</td>\n",
       "      <td id=\"T_8832f_row17_col3\" class=\"data row17 col3\" >[87, 92, 228, 429, 578, 817, 882, 893, 933, 992]</td>\n",
       "    </tr>\n",
       "    <tr>\n",
       "      <td id=\"T_8832f_row18_col0\" class=\"data row18 col0\" >p_hat1000-2</td>\n",
       "      <td id=\"T_8832f_row18_col1\" class=\"data row18 col1\" >99.122236</td>\n",
       "      <td id=\"T_8832f_row18_col2\" class=\"data row18 col2\" >39</td>\n",
       "      <td id=\"T_8832f_row18_col3\" class=\"data row18 col3\" >[8, 33, 38, 75, 84, 85, 122, 162, 171, 173, 179, 196, 199, 227, 287, 298, 322, 416, 438, 464, 495, 525, 533, 549, 562, 608, 636, 639, 776, 782, 785, 801, 811, 819, 839, 900, 962, 988, 993]</td>\n",
       "    </tr>\n",
       "    <tr>\n",
       "      <td id=\"T_8832f_row19_col0\" class=\"data row19 col0\" >p_hat1500-1</td>\n",
       "      <td id=\"T_8832f_row19_col1\" class=\"data row19 col1\" >53.370221</td>\n",
       "      <td id=\"T_8832f_row19_col2\" class=\"data row19 col2\" >11</td>\n",
       "      <td id=\"T_8832f_row19_col3\" class=\"data row19 col3\" >[39, 165, 215, 245, 485, 657, 940, 965, 1093, 1161, 1330]</td>\n",
       "    </tr>\n",
       "    <tr>\n",
       "      <td id=\"T_8832f_row20_col0\" class=\"data row20 col0\" >p_hat300-3</td>\n",
       "      <td id=\"T_8832f_row20_col1\" class=\"data row20 col1\" >35.753648</td>\n",
       "      <td id=\"T_8832f_row20_col2\" class=\"data row20 col2\" >32</td>\n",
       "      <td id=\"T_8832f_row20_col3\" class=\"data row20 col3\" >[19, 20, 24, 26, 38, 40, 49, 56, 59, 76, 79, 87, 98, 107, 135, 146, 149, 161, 172, 197, 200, 209, 213, 221, 226, 237, 252, 262, 268, 287, 290, 297]</td>\n",
       "    </tr>\n",
       "    <tr>\n",
       "      <td id=\"T_8832f_row21_col0\" class=\"data row21 col0\" >p_hat500-3</td>\n",
       "      <td id=\"T_8832f_row21_col1\" class=\"data row21 col1\" >77.448080</td>\n",
       "      <td id=\"T_8832f_row21_col2\" class=\"data row21 col2\" >44</td>\n",
       "      <td id=\"T_8832f_row21_col3\" class=\"data row21 col3\" >[3, 10, 30, 37, 39, 63, 68, 71, 99, 102, 116, 123, 137, 150, 160, 173, 183, 193, 206, 222, 231, 250, 269, 282, 297, 300, 302, 323, 332, 342, 359, 383, 394, 408, 412, 418, 432, 455, 465, 468, 489, 490, 496, 500]</td>\n",
       "    </tr>\n",
       "    <tr>\n",
       "      <td id=\"T_8832f_row22_col0\" class=\"data row22 col0\" >san1000</td>\n",
       "      <td id=\"T_8832f_row22_col1\" class=\"data row22 col1\" >50.523434</td>\n",
       "      <td id=\"T_8832f_row22_col2\" class=\"data row22 col2\" >10</td>\n",
       "      <td id=\"T_8832f_row22_col3\" class=\"data row22 col3\" >[7, 29, 150, 268, 311, 437, 545, 715, 847, 978]</td>\n",
       "    </tr>\n",
       "    <tr>\n",
       "      <td id=\"T_8832f_row23_col0\" class=\"data row23 col0\" >sanr200_0.9</td>\n",
       "      <td id=\"T_8832f_row23_col1\" class=\"data row23 col1\" >44.098286</td>\n",
       "      <td id=\"T_8832f_row23_col2\" class=\"data row23 col2\" >39</td>\n",
       "      <td id=\"T_8832f_row23_col3\" class=\"data row23 col3\" >[4, 7, 8, 13, 18, 33, 36, 39, 57, 59, 63, 67, 71, 72, 86, 93, 94, 95, 98, 102, 103, 105, 110, 125, 126, 129, 131, 133, 143, 145, 150, 153, 158, 160, 167, 181, 185, 189, 199]</td>\n",
       "    </tr>\n",
       "    <tr>\n",
       "      <td id=\"T_8832f_row24_col0\" class=\"data row24 col0\" >sanr400_0.7</td>\n",
       "      <td id=\"T_8832f_row24_col1\" class=\"data row24 col1\" >25.431921</td>\n",
       "      <td id=\"T_8832f_row24_col2\" class=\"data row24 col2\" >20</td>\n",
       "      <td id=\"T_8832f_row24_col3\" class=\"data row24 col3\" >[41, 49, 61, 71, 131, 133, 135, 140, 172, 177, 186, 194, 244, 271, 283, 307, 350, 364, 375, 385]</td>\n",
       "    </tr>\n",
       "  </tbody>\n",
       "</table>\n"
      ],
      "text/plain": [
       "<pandas.io.formats.style.Styler at 0x2306338d430>"
      ]
     },
     "metadata": {},
     "output_type": "display_data"
    }
   ],
   "source": [
    "show_results(solutions_1)"
   ]
  },
  {
   "cell_type": "markdown",
   "metadata": {},
   "source": [
    "        Возможные улучшения: \n",
    "        1) Изначальный полностью жадный подсчёт клики (без элемента случайности) поможет сократить возможное число итераций и ускорит алгоритм.\n",
    "        2) Для улучшения точности — после добавления вершины в клику можно пересчитывать степени смежных вершин (перестанут учитываться вершины, что не могут попасть в клику, при распределении весов в зависимости от ранга вершин). Однако этот подход может замедлить скорость работы алгоритма.\n",
    "        3) Вместо полного случайного пересчёта решения — делать Destroy/Repair лучшего найденного."
   ]
  },
  {
   "cell_type": "markdown",
   "metadata": {},
   "source": [
    "# Вывод"
   ]
  },
  {
   "cell_type": "code",
   "execution_count": 19,
   "metadata": {},
   "outputs": [],
   "source": [
    "save_solution(solutions_1) # сохранение лучших ответов"
   ]
  }
 ],
 "metadata": {
  "kernelspec": {
   "display_name": "Python 3",
   "language": "python",
   "name": "python3"
  },
  "language_info": {
   "codemirror_mode": {
    "name": "ipython",
    "version": 3
   },
   "file_extension": ".py",
   "mimetype": "text/x-python",
   "name": "python",
   "nbconvert_exporter": "python",
   "pygments_lexer": "ipython3",
   "version": "3.9.12"
  },
  "orig_nbformat": 4
 },
 "nbformat": 4,
 "nbformat_minor": 2
}
