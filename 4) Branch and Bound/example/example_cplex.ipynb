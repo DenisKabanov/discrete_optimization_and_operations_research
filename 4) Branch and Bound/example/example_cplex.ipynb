{
 "cells": [
  {
   "cell_type": "markdown",
   "metadata": {},
   "source": [
    "<pre>\n",
    "minimize    5x + 4y\n",
    "subject to:  \n",
    "            x  +  y >= 8\n",
    "            2x +  y >= 10\n",
    "            x  + 4y >= 11\n",
    "            x       >= 0\n",
    "                  y >= 0\n",
    "</pre>"
   ]
  },
  {
   "cell_type": "markdown",
   "metadata": {},
   "source": [
    "<img src=\"pics/restrictions.png\" alt=\"График ограничений\" />"
   ]
  },
  {
   "cell_type": "markdown",
   "metadata": {},
   "source": [
    "<img src=\"pics/objective_function.png\" alt=\"График ограничений\">"
   ]
  },
  {
   "cell_type": "markdown",
   "metadata": {},
   "source": [
    "# Шаг 1: импортирование cplex package"
   ]
  },
  {
   "cell_type": "code",
   "execution_count": 1,
   "metadata": {},
   "outputs": [],
   "source": [
    "import cplex # импортирование cplex для модели-функции"
   ]
  },
  {
   "cell_type": "markdown",
   "metadata": {},
   "source": [
    "# Шаг 2: создание оптимизационной модели"
   ]
  },
  {
   "cell_type": "code",
   "execution_count": 2,
   "metadata": {},
   "outputs": [],
   "source": [
    "model = cplex.Cplex() # создание объекта для модели (изначально без переменных и ограничений)"
   ]
  },
  {
   "cell_type": "markdown",
   "metadata": {},
   "source": [
    "# Шаг 3: добавление переменных и целевой функции (непрерывных ~ continuous) в модель "
   ]
  },
  {
   "cell_type": "code",
   "execution_count": 3,
   "metadata": {},
   "outputs": [
    {
     "data": {
      "text/plain": [
       "range(0, 2)"
      ]
     },
     "execution_count": 3,
     "metadata": {},
     "output_type": "execute_result"
    }
   ],
   "source": [
    "obj = [5.0, 4.0] # коэффициенты переменных для целевой функции\n",
    "lb = [0.0, 0.0] # lower bound-ы для переменных модели\n",
    "ub = [cplex.infinity, cplex.infinity] # upper bound-ы для переменных модели\n",
    "names = [\"x\", \"y\"] # имена для переменных модели\n",
    "types = [\"C\", \"C\"] # типы для переменных модели (\"C\" - непрерывная, \"B\" — бинарная, \"I\" — целочисленная)\n",
    "\n",
    "model.variables.add(obj=obj, lb=lb, ub=ub, names=names, types=types) # добавляем переменные в модель\n",
    "# возвращает range ~ индексы добавленных элементов"
   ]
  },
  {
   "cell_type": "code",
   "execution_count": 4,
   "metadata": {},
   "outputs": [],
   "source": [
    "model.objective.set_name(\"Linear program\") # добавление названия модели (опционально)\n",
    "model.objective.set_sense(model.objective.sense.minimize) # тип целевой функции (для максимизации — model.objective.sense.maximize)"
   ]
  },
  {
   "cell_type": "markdown",
   "metadata": {},
   "source": [
    "# Шаг 4: добавление ограничений"
   ]
  },
  {
   "cell_type": "code",
   "execution_count": 5,
   "metadata": {},
   "outputs": [
    {
     "data": {
      "text/plain": [
       "range(0, 3)"
      ]
     },
     "execution_count": 5,
     "metadata": {},
     "output_type": "execute_result"
    }
   ],
   "source": [
    "constraints = [\n",
    "               [[0, 1], [1.0, 1.0]], # номера переменных в первом ограничении (можно и имена) с их коэффициентами\n",
    "               [[0, 1], [2.0, 1.0]], # номера переменных во втором ограничении (можно и имена) с их коэффициентами\n",
    "               [[0, 1], [1.0, 4.0]] # номера переменных в третьем ограничении (можно и имена) с их коэффициентами\n",
    "              ]\n",
    "senses = [\"G\", \"G\", \"G\"] # знак добавляемых ограничений (\"G\" — \">=\", \"L\" — \"<=\", \"E\" — \"==\")\n",
    "rhs = [8.0, 10.0, 11.0] # значения для ограничений (их правая часть) \n",
    "names = [\"c1\", \"c2\", \"c3\"] # имена добавляемых ограничений (опциональны)\n",
    "\n",
    "model.linear_constraints.add(lin_expr=constraints, senses=senses, rhs=rhs, names=names)"
   ]
  },
  {
   "cell_type": "markdown",
   "metadata": {},
   "source": [
    "# Шаг 5: решение модели"
   ]
  },
  {
   "cell_type": "code",
   "execution_count": 6,
   "metadata": {},
   "outputs": [
    {
     "name": "stdout",
     "output_type": "stream",
     "text": [
      "Version identifier: 20.1.0.0 | 2020-11-10 | 9bedb6d68\n",
      "CPXPARAM_Read_DataCheck                          1\n",
      "Found incumbent of value 55.000000 after 0.00 sec. (0.00 ticks)\n",
      "Tried aggregator 1 time.\n",
      "Reduced MIP has 3 rows, 2 columns, and 6 nonzeros.\n",
      "Reduced MIP has 0 binaries, 0 generals, 0 SOSs, and 0 indicators.\n",
      "Presolve time = 0.02 sec. (0.00 ticks)\n",
      "Tried aggregator 1 time.\n",
      "Reduced MIP has 3 rows, 2 columns, and 6 nonzeros.\n",
      "Reduced MIP has 0 binaries, 0 generals, 0 SOSs, and 0 indicators.\n",
      "Presolve time = 0.00 sec. (0.00 ticks)\n",
      "MIP emphasis: balance optimality and feasibility.\n",
      "MIP search method: dynamic search.\n",
      "Parallel mode: deterministic, using up to 8 threads.\n",
      "Root relaxation solution time = 0.01 sec. (0.00 ticks)\n",
      "\n",
      "        Nodes                                         Cuts/\n",
      "   Node  Left     Objective  IInf  Best Integer    Best Bound    ItCnt     Gap\n",
      "\n",
      "*     0+    0                           55.0000        0.0000           100.00%\n",
      "*     0     0      integral     0       34.0000       34.0000        3    0.00%\n",
      "Elapsed time = 0.03 sec. (0.01 ticks, tree = 0.00 MB, solutions = 2)\n",
      "\n",
      "Root node processing (before b&c):\n",
      "  Real time             =    0.03 sec. (0.01 ticks)\n",
      "Parallel b&c, 8 threads:\n",
      "  Real time             =    0.00 sec. (0.00 ticks)\n",
      "  Sync time (average)   =    0.00 sec.\n",
      "  Wait time (average)   =    0.00 sec.\n",
      "                          ------------\n",
      "Total (root+branch&cut) =    0.03 sec. (0.01 ticks)\n"
     ]
    }
   ],
   "source": [
    "model.solve() # решение модели"
   ]
  },
  {
   "cell_type": "markdown",
   "metadata": {},
   "source": [
    "# Шаг 6: вывод результата"
   ]
  },
  {
   "cell_type": "code",
   "execution_count": 7,
   "metadata": {},
   "outputs": [
    {
     "data": {
      "text/plain": [
       "34.0"
      ]
     },
     "execution_count": 7,
     "metadata": {},
     "output_type": "execute_result"
    }
   ],
   "source": [
    "model.solution.get_objective_value() # значение целевой функции"
   ]
  },
  {
   "cell_type": "code",
   "execution_count": 8,
   "metadata": {},
   "outputs": [
    {
     "data": {
      "text/plain": [
       "[2.0, 6.0]"
      ]
     },
     "execution_count": 8,
     "metadata": {},
     "output_type": "execute_result"
    }
   ],
   "source": [
    "model.solution.get_values() # значения переменных"
   ]
  },
  {
   "cell_type": "markdown",
   "metadata": {},
   "source": [
    "# Всякое"
   ]
  },
  {
   "cell_type": "code",
   "execution_count": 5,
   "metadata": {},
   "outputs": [
    {
     "data": {
      "text/plain": [
       "0"
      ]
     },
     "execution_count": 5,
     "metadata": {},
     "output_type": "execute_result"
    }
   ],
   "source": [
    "model.variables.get_indices(name=\"x\") # получение индекса переменной в модели"
   ]
  },
  {
   "cell_type": "code",
   "execution_count": 6,
   "metadata": {},
   "outputs": [
    {
     "data": {
      "text/plain": [
       "['B', 'C']"
      ]
     },
     "execution_count": 6,
     "metadata": {},
     "output_type": "execute_result"
    }
   ],
   "source": [
    "model.variables.set_types(0, \"B\") # изменение типа переменной (можно по имени и по индексу)\n",
    "model.variables.get_types() # вывод всех типов переменных"
   ]
  },
  {
   "cell_type": "code",
   "execution_count": 7,
   "metadata": {},
   "outputs": [
    {
     "data": {
      "text/plain": [
       "[10.0, 1e+20]"
      ]
     },
     "execution_count": 7,
     "metadata": {},
     "output_type": "execute_result"
    }
   ],
   "source": [
    "model.variables.set_upper_bounds(\"x\", 10) # изменение UB переменной (можно по имени и по индексу)\n",
    "model.variables.get_upper_bounds() # вывод UB для всех переменных"
   ]
  },
  {
   "cell_type": "code",
   "execution_count": 9,
   "metadata": {},
   "outputs": [
    {
     "data": {
      "text/plain": [
       "['x', 'y']"
      ]
     },
     "execution_count": 9,
     "metadata": {},
     "output_type": "execute_result"
    }
   ],
   "source": [
    "model.variables.get_names() # получение имён переменных"
   ]
  },
  {
   "cell_type": "code",
   "execution_count": 13,
   "metadata": {},
   "outputs": [
    {
     "data": {
      "text/plain": [
       "1"
      ]
     },
     "execution_count": 13,
     "metadata": {},
     "output_type": "execute_result"
    }
   ],
   "source": [
    "model.variables.get_num_binary() # число бинарных переменных у модели (можно и другие типы смотреть)"
   ]
  },
  {
   "cell_type": "code",
   "execution_count": 9,
   "metadata": {},
   "outputs": [
    {
     "data": {
      "text/plain": [
       "SparsePair(ind = [0, 1], val = [2.0, 1.0])"
      ]
     },
     "execution_count": 9,
     "metadata": {},
     "output_type": "execute_result"
    }
   ],
   "source": [
    "model.linear_constraints.get_rows(1) # получение ограничений по номеру добавления (можно и по имени)"
   ]
  },
  {
   "cell_type": "code",
   "execution_count": 10,
   "metadata": {},
   "outputs": [
    {
     "data": {
      "text/plain": [
       "SparsePair(ind = [0, 1], val = [1.0, 1.0])"
      ]
     },
     "execution_count": 10,
     "metadata": {},
     "output_type": "execute_result"
    }
   ],
   "source": [
    "model.linear_constraints.get_rows(\"c1\")"
   ]
  },
  {
   "cell_type": "code",
   "execution_count": null,
   "metadata": {},
   "outputs": [],
   "source": [
    "model.solution.get_status() # получение статуса решения от модели"
   ]
  }
 ],
 "metadata": {
  "kernelspec": {
   "display_name": "cplex",
   "language": "python",
   "name": "python3"
  },
  "language_info": {
   "codemirror_mode": {
    "name": "ipython",
    "version": 3
   },
   "file_extension": ".py",
   "mimetype": "text/x-python",
   "name": "python",
   "nbconvert_exporter": "python",
   "pygments_lexer": "ipython3",
   "version": "3.8.18"
  }
 },
 "nbformat": 4,
 "nbformat_minor": 2
}
