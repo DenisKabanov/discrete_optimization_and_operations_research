{
 "cells": [
  {
   "cell_type": "markdown",
   "metadata": {},
   "source": [
    "# Задание"
   ]
  },
  {
   "cell_type": "markdown",
   "metadata": {},
   "source": [
    "Реализовать классический метод ветвей и границ, в котором нужно ветвиться по дробным переменным."
   ]
  },
  {
   "cell_type": "markdown",
   "metadata": {},
   "source": [
    "# Настройки/Гиперпараметры/Импорты"
   ]
  },
  {
   "cell_type": "code",
   "execution_count": 2,
   "metadata": {},
   "outputs": [],
   "source": [
    "import numpy as np # для быстрой работы с массивами\n",
    "import random # для рандомизированного алгоритма\n",
    "import time # для подсчёта времени работы\n",
    "from tqdm import tqdm # для обёртки итераций между датасетами\n",
    "import csv # для сохранения ответов\n",
    "import pandas as pd # для вывода таблицы (v 2.0.0)\n",
    "\n",
    "from docplex.mp.model import Model # импортирование cplex модели-функции"
   ]
  },
  {
   "cell_type": "code",
   "execution_count": 3,
   "metadata": {},
   "outputs": [],
   "source": [
    "runs = 5 # число запусков для усреднения времени\n",
    "iterations = 1000 # сколько попыток делать для поиска хорошего начального решения"
   ]
  },
  {
   "cell_type": "markdown",
   "metadata": {},
   "source": [
    "## Вспомогательные функции"
   ]
  },
  {
   "cell_type": "code",
   "execution_count": 4,
   "metadata": {},
   "outputs": [],
   "source": [
    "def check_solution(edges: dict, solution) -> None:\n",
    "    \"\"\"\n",
    "    Функция для проверка полученного лучшего решения.\\n\n",
    "    Parameters:\n",
    "        * edges: словарь смежных вершинам вершин, описывающий граф\n",
    "        * solution: решение в формате (размер клики, [вершины в клике])\\n\n",
    "    Returns:\n",
    "        * None: выкинет ошибку, если решение не действительное\n",
    "    \"\"\"\n",
    "    for i in range(solution[0]-1): # идём по вершинам и проверяем, смежны ли она со всеми остальными вершинами в найденной клике (solution[0] - число вершин в найденной клике)\n",
    "        for j in range(i+1, solution[0]): # идём по последующим вершинам в клике\n",
    "            if solution[1][j] not in edges[solution[1][i]]: # проверяем наличие ребра между вершинами\n",
    "                raise RuntimeError(\"Clique contains unconnected vertices!\") # если ребра нет — выкидываем ошибку\n",
    "            \n",
    "\n",
    "def transform_solution(solution) -> list:\n",
    "    \"\"\"\n",
    "    Функция для преобразования ответа, чтобы номера шли не с 0, а с 1 и по порядку.\\n\n",
    "    Parameters:\n",
    "        * solution: решение в формате (размер клики, [вершины в клике])\\n\n",
    "    Returns:\n",
    "        * list: решение в формате (размер клики, [отсортированные инкрементированные вершины клики])\n",
    "    \"\"\"\n",
    "    for i in range(solution[0]):\n",
    "        solution[1][i] += 1\n",
    "    return [solution[0], sorted(solution[1])]\n",
    "\n",
    "\n",
    "def save_solution(solutions):\n",
    "    \"\"\"\n",
    "    Функция для сохранения лучших ответов.\\n\n",
    "    Parameters:\n",
    "        * solutions: словарь для тест-кейсов с решениями в формате (размер клики, [вершины в клике])\\n\n",
    "    Returns:\n",
    "        * None: сохраняет файл\n",
    "    \"\"\"\n",
    "    for dataset in solutions.keys(): # идём по тест-кейсам\n",
    "        with open(f'solutions/{dataset}.csv', 'w', newline='') as file: # открываем файл для чистой записи\n",
    "            writer = csv.writer(file) # создаём объект для записи\n",
    "            writer.writerow([solutions[dataset][\"clique_size\"]]) # сохраняем размер клики\n",
    "            writer.writerows([solutions[dataset][\"clique\"]]) # сохраняем вершины клики\n",
    "    \n",
    "    # сохранение таблицы в csv формате\n",
    "    table = pd.DataFrame(data = [], columns=[\"Instance\", \"Time, sec\", \"Clique size\", \"Clique vertices\"]) # создаём pandas таблицу\n",
    "    for dataset in solutions.keys(): # идём по тест-кейсам\n",
    "        testcase = pd.DataFrame(data = [[dataset, solutions[dataset][\"time\"], solutions[dataset][\"clique_size\"], solutions[dataset][\"clique\"]]], columns=[\"Instance\", \"Time, sec\", \"Clique size\", \"Clique vertices\"]) # создаём \"новую\" таблицу для тест-кейса\n",
    "        table = pd.concat([table, testcase], ignore_index=True) # объединяем таблицы\n",
    "    table.to_csv(\"best_solutions.csv\", index=False) # сохраняем в csv формате без индекса"
   ]
  },
  {
   "cell_type": "markdown",
   "metadata": {},
   "source": [
    "## Считывание данных"
   ]
  },
  {
   "cell_type": "code",
   "execution_count": 5,
   "metadata": {},
   "outputs": [],
   "source": [
    "# files = [\"brock200_1\", \"brock200_2\", \"brock200_3\", \"brock200_4\", \"c-fat200-1\", \"c-fat200-2\", \"c-fat200-5\", \"c-fat500-1\", \"c-fat500-10\", \"c-fat500-2\", \"c-fat500-5\", \"C125.9\", \"gen200_p0.9_44\", \"gen200_p0.9_55\",  \"johnson8-2-4\",  \"johnson8-4-4\", \"johnson16-2-4\", \"hamming6-2\", \"hamming6-4\", \"hamming8-2\", \"hamming8-4\", \"keller4\", \"MANN_a9\", \"MANN_a27\", \"MANN_a45\", \"p_hat300-1\", \"p_hat300-2\", \"p_hat300-3\", \"san200_0.7_1\", \"san200_0.7_2\", \"san200_0.9_1\", \"san200_0.9_2\", \"san200_0.9_3\", \"sanr200_0.7\"] # файлы, на которых должен быть протестирован код\n",
    "# files = [\"brock200_2\", \"brock200_3\", \"brock200_4\", \"johnson8-2-4\", \"johnson16-2-4\", \"MANN_a9\", \"hamming8-4\", \"keller4\"] # файлы, на которых должен быть протестирован код\n",
    "files = [\"brock200_2\", \"brock200_3\", \"johnson8-2-4\", \"johnson16-2-4\", \"MANN_a9\", \"keller4\"] # файлы, на которых должен быть протестирован код"
   ]
  },
  {
   "cell_type": "code",
   "execution_count": 6,
   "metadata": {},
   "outputs": [],
   "source": [
    "data = {} \n",
    "# data - словарь вида \n",
    "# {\"название датасета\" : \n",
    "#     {\"vertex_num\": число вершин, \n",
    "#     \"edge_num\": число рёбер, \n",
    "#     \"edges\": \n",
    "#         {словарь вида вершина - set смежных ей вершин}\n",
    "#     }\n",
    "#  ...\n",
    "# }"
   ]
  },
  {
   "cell_type": "code",
   "execution_count": 7,
   "metadata": {},
   "outputs": [],
   "source": [
    "for file in files:\n",
    "    data[file] = {\"vertex_num\": None, \"edge_num\": None, \"edges\": {}}\n",
    "    with open(\"data/\" + file + \".clq\", \"r\") as f: # открываем файл для чтения\n",
    "        for row in f: # проходим по строкам\n",
    "            if row[0] == \"c\": # если строка начинается с буквы \"c\" - это комментарий, пропускае строку\n",
    "                continue\n",
    "            elif row[0] == \"p\": # если строка начинается с буквы \"p\" - это описание проблемы, берём из этой строки число вершин и рёбер (последние два числа)\n",
    "                data[file][\"vertex_num\"], data[file][\"edge_num\"] = int(row.split()[-2]), int(row.split()[-1])\n",
    "            elif row[0] == \"e\": # если строка начинается с буквы \"p\" - это вершины, между которыми есть ребро\n",
    "                v1, v2 = int(row.split()[-2]) - 1, int(row.split()[-1]) - 1 # запоминаем вершины (-1, чтобы не было мороки с индексацией)\n",
    "\n",
    "                # добавляем связь вершины v1 с v2\n",
    "                if v1 not in data[file][\"edges\"].keys(): # если это первое упоминание вершины v1 - создадим для неё set с указанием v2\n",
    "                    data[file][\"edges\"][v1] = {v2}\n",
    "                elif v2 not in data[file][\"edges\"][v1]: # иначе - просто добавим v2 в set смежных вершин v1\n",
    "                    data[file][\"edges\"][v1].add(v2)\n",
    "\n",
    "                # аналогично, но относительно вершины v2\n",
    "                if v2 not in data[file][\"edges\"].keys():\n",
    "                    data[file][\"edges\"][v2] = {v1}\n",
    "                elif v1 not in data[file][\"edges\"][v2]:\n",
    "                    data[file][\"edges\"][v2].add(v1)\n",
    "        data[file][\"edges\"] = dict(sorted(data[file][\"edges\"].items())) # отсортируем вершины в словаре (в set для ключа словаря вершины уже отсортированы)"
   ]
  },
  {
   "cell_type": "code",
   "execution_count": 8,
   "metadata": {},
   "outputs": [
    {
     "data": {
      "text/plain": [
       "{'vertex_num': 28,\n",
       " 'edge_num': 210,\n",
       " 'edges': {0: {5, 8, 9, 12, 13, 14, 17, 18, 19, 20, 23, 24, 25, 26, 27},\n",
       "  1: {4, 7, 9, 11, 13, 14, 16, 18, 19, 20, 22, 24, 25, 26, 27},\n",
       "  2: {3, 6, 9, 10, 13, 14, 15, 18, 19, 20, 21, 24, 25, 26, 27},\n",
       "  3: {2, 7, 8, 11, 12, 14, 16, 17, 19, 20, 22, 23, 25, 26, 27},\n",
       "  4: {1, 6, 8, 10, 12, 14, 15, 17, 19, 20, 21, 23, 25, 26, 27},\n",
       "  5: {0, 6, 7, 10, 11, 14, 15, 16, 19, 20, 21, 22, 25, 26, 27},\n",
       "  6: {2, 4, 5, 11, 12, 13, 16, 17, 18, 20, 22, 23, 24, 26, 27},\n",
       "  7: {1, 3, 5, 10, 12, 13, 15, 17, 18, 20, 21, 23, 24, 26, 27},\n",
       "  8: {0, 3, 4, 10, 11, 13, 15, 16, 18, 20, 21, 22, 24, 26, 27},\n",
       "  9: {0, 1, 2, 10, 11, 12, 15, 16, 17, 20, 21, 22, 23, 26, 27},\n",
       "  10: {2, 4, 5, 7, 8, 9, 16, 17, 18, 19, 22, 23, 24, 25, 27},\n",
       "  11: {1, 3, 5, 6, 8, 9, 15, 17, 18, 19, 21, 23, 24, 25, 27},\n",
       "  12: {0, 3, 4, 6, 7, 9, 15, 16, 18, 19, 21, 22, 24, 25, 27},\n",
       "  13: {0, 1, 2, 6, 7, 8, 15, 16, 17, 19, 21, 22, 23, 25, 27},\n",
       "  14: {0, 1, 2, 3, 4, 5, 15, 16, 17, 18, 21, 22, 23, 24, 27},\n",
       "  15: {2, 4, 5, 7, 8, 9, 11, 12, 13, 14, 22, 23, 24, 25, 26},\n",
       "  16: {1, 3, 5, 6, 8, 9, 10, 12, 13, 14, 21, 23, 24, 25, 26},\n",
       "  17: {0, 3, 4, 6, 7, 9, 10, 11, 13, 14, 21, 22, 24, 25, 26},\n",
       "  18: {0, 1, 2, 6, 7, 8, 10, 11, 12, 14, 21, 22, 23, 25, 26},\n",
       "  19: {0, 1, 2, 3, 4, 5, 10, 11, 12, 13, 21, 22, 23, 24, 26},\n",
       "  20: {0, 1, 2, 3, 4, 5, 6, 7, 8, 9, 21, 22, 23, 24, 25},\n",
       "  21: {2, 4, 5, 7, 8, 9, 11, 12, 13, 14, 16, 17, 18, 19, 20},\n",
       "  22: {1, 3, 5, 6, 8, 9, 10, 12, 13, 14, 15, 17, 18, 19, 20},\n",
       "  23: {0, 3, 4, 6, 7, 9, 10, 11, 13, 14, 15, 16, 18, 19, 20},\n",
       "  24: {0, 1, 2, 6, 7, 8, 10, 11, 12, 14, 15, 16, 17, 19, 20},\n",
       "  25: {0, 1, 2, 3, 4, 5, 10, 11, 12, 13, 15, 16, 17, 18, 20},\n",
       "  26: {0, 1, 2, 3, 4, 5, 6, 7, 8, 9, 15, 16, 17, 18, 19},\n",
       "  27: {0, 1, 2, 3, 4, 5, 6, 7, 8, 9, 10, 11, 12, 13, 14}}}"
      ]
     },
     "execution_count": 8,
     "metadata": {},
     "output_type": "execute_result"
    }
   ],
   "source": [
    "data[\"johnson8-2-4\"] # пример данных"
   ]
  },
  {
   "cell_type": "markdown",
   "metadata": {},
   "source": [
    "# Реализация алгоритма"
   ]
  },
  {
   "cell_type": "markdown",
   "metadata": {},
   "source": [
    "## Эвристики для поиска начального решения"
   ]
  },
  {
   "cell_type": "code",
   "execution_count": 9,
   "metadata": {},
   "outputs": [],
   "source": [
    "def randomized_greedy_max_clique(edges:dict, iterations=10) -> tuple:\n",
    "    \"\"\"\n",
    "    Функция для получения начального рандомизированного решения задачи о максимальной клике.\\n\n",
    "    Parameters:\n",
    "        * edges: словарь смежных вершинам вершин\n",
    "        * iterations: через сколько попыток без улучшения решения выходить из алгоритма\\n\n",
    "    Returns:\n",
    "        * tuple: (размер лучшей найденной клики, список вершин в этой клике)\n",
    "    \"\"\"\n",
    "    original_candidates = set(edges.keys()) # set вершин (изначально все являются кандидатами в клику)\n",
    "    original_candidates_degrees = [len(edges[v]) for v in original_candidates] # создаём список степеней вершин (индекс - номер вершины, так как ожидается, что на входе edges остортирован в порядке увеличения номера вершины)\n",
    "\n",
    "    attempts = 0 # текущее число попыток\n",
    "    best_clique = [] # текущая лучшая клика\n",
    "\n",
    "    while attempts < iterations: # запускаем алгоритм, пока число попыток без изменения результата не превысит счётчик iterations\n",
    "        clique = [] # создаём \"пустую\" клику\n",
    "        candidates = original_candidates.copy() # копируем всех кандидатов\n",
    "        while len(candidates) != 0: # пока есть кандидаты — пытаемся добавить их в клику\n",
    "            candidates_degrees = [original_candidates_degrees[i] for i in candidates] # пересчитываем степени кандидатов (оставляем степени только рассматриваемых вершин) для итерациии случайного выбора\n",
    "            \n",
    "            v = random.choices(population=list(candidates), weights=candidates_degrees, k=1)[0] # случайным образом выбираем вершину в клику в соответствии с её степенью (чем больше степень относительно других вершин — тем выше вероятность) (переводим candidates в список для случайного выбора)\n",
    "            clique.append(v) # добавляем её в клику\n",
    "            \n",
    "            candidates = candidates.intersection(edges[v]) # среди кандидитов оставляем только тех, кто смежен со всеми вершинами в текущей клике (итеративно этот список постоянно уменьшается с добавлением новых вершин в клику)\n",
    "\n",
    "        if len(clique) > len(best_clique): # если нашли новую лучшую клику, то запоминаем её\n",
    "            best_clique = clique.copy()\n",
    "            attempts = 0 # обнуляем число итераций без улучшения решения\n",
    "        else:\n",
    "            attempts += 1 # увеличиваем число итераций без улучшения решения\n",
    "\n",
    "    return len(best_clique), best_clique # возвращаем размер лучшей клики и её саму"
   ]
  },
  {
   "cell_type": "markdown",
   "metadata": {},
   "source": [
    "## Branch and Bound алгоритм"
   ]
  },
  {
   "cell_type": "markdown",
   "metadata": {},
   "source": [
    "### 1) Branch and Bound для задачи о максимальной клике (без использования cplex)"
   ]
  },
  {
   "cell_type": "code",
   "execution_count": 14,
   "metadata": {},
   "outputs": [],
   "source": [
    "class BranchAndBound_clq():\n",
    "    def __init__(self, edges: dict, heuristic_for_init_sol: callable) -> None: # инициализация модели для решения задачи\n",
    "        \"\"\"\n",
    "        Конструктор для модели.\\n\n",
    "        Parameters:\n",
    "            * edges: словарь смежных вершинам вершин\n",
    "            * heuristic_for_init_sol: функция, что будет использоваться для нахождения первичного решения\\n\n",
    "        Returns:\n",
    "            * None: создаёт модель\n",
    "        \"\"\"\n",
    "        # вершины в алгоритм приходят с нулевой (а не с 1)\n",
    "        self.heuristic_for_init_sol = heuristic_for_init_sol # эвристическая функция для поиска начального решения\n",
    "        self.edges = edges # данные о изначальном графе (словарь смежных вершинам вершин)\n",
    "        self.num_vertices = len(edges) # число вершин в графе\n",
    "        self.best_clique = [] # текущая лучшая клика\n",
    "        self.cur_clique = [] # текущая рассматриваемая клика\n",
    "\n",
    "    def calc_initial_solution(self, data) -> None:\n",
    "        \"\"\"\n",
    "        Функция для поиска начального решения.\\n\n",
    "        Parameters:\n",
    "            * data: дополнительные параметры, что будут отправлены в функцию поиска начального решения\\n\n",
    "        Returns:\n",
    "            * None: обновляет best_clique\n",
    "        \"\"\"\n",
    "        _, self.best_clique = self.heuristic_for_init_sol(self.edges, *data) # запоминаем содержимое найденной клики (размер будем брать через len, так как это всё равно за O(1))\n",
    "\n",
    "    \n",
    "    def initialize_bnb(self) -> None:\n",
    "        \"\"\"\n",
    "        Функция инициализации Branch and Bound алгоритма для точного поиска максимальной клики.\\n\n",
    "        Returns:\n",
    "            * None: обновляет best_clique\n",
    "        \"\"\"\n",
    "        #===================================== случайным образом перемешиваем вершины-кандидатов==========================================\n",
    "        candidates = list(range(self.num_vertices)) # изначально кандидаты в клику — все возможные вершины\n",
    "        random.shuffle(candidates) # случайно перемешиваем кандидатов\n",
    "        self.recursive_bnb(candidates) # запускаем рекурсивный BnB алгоритм (DFS search)\n",
    "        #------------------------------------- сортируем smallest degree last with remove + reverse --------------------------------------\n",
    "        edges_sorted = {}\n",
    "        vertices_degrees = [len(self.edges[v]) for v in range(self.num_vertices)] # создаём список степеней вершин (индекс - номер вершины (-1), так как ожидается, что на входе edges остортирован в порядке увеличения номера вершины)\n",
    "    \n",
    "        for i in range(self.num_vertices): # просто итерируемся столько раз, сколько у нас вершин\n",
    "            vertex = vertices_degrees.index(max(vertices_degrees)) # берём вершину с самой большой степенью\n",
    "            vertices_degrees[vertex] = -1 # ставим малую степень найденной вершине (она больше ни разу не будет выбрана)\n",
    "            edges_sorted[vertex] = self.edges[vertex+1] # копируем рассматриваемую вершину в новый-отсортированный словарь\n",
    "            for v in edges[vertex+1]: # идём по смежным вершинам\n",
    "                vertices_degrees[v-1] -= 1 # понижаем их степени (v-1 так как  нумерация в vertices_degrees идёт с нуля, а не с единицы)\n",
    "\n",
    "    \n",
    "    def recursive_bnb(self, candidates) -> None:\n",
    "        \"\"\"\n",
    "        Функция для запуска точного алгоритма Branch and Bound.\\n\n",
    "        Parameters:\n",
    "            * candidates: возможные кандидаты для добавления в клику\\n\n",
    "        Returns:\n",
    "            * None: обновляет best_clique\n",
    "        \"\"\"\n",
    "\n",
    "        if len(candidates) == 0: # если кандидатов не осталось — мы в листе BnB алгоритма\n",
    "            if len(self.cur_clique) > len(self.best_clique): # если клика в листе получилась лучше — обновляем лучшую\n",
    "                self.best_clique = self.cur_clique.copy() # запоминаем содержимое клики\n",
    "            return # выходим из рекурсии, так как кандидатов не осталось\n",
    "        \n",
    "        if len(self.cur_clique) + len(candidates) <= len(self.best_clique): # проверка на UB (перестаём рассматривать ветку, если её ответ в любом случае не улучшит максимальную клику)\n",
    "            return\n",
    "        \n",
    "        for i in range(len(candidates)): # идём по возможным кандидатам (ветвление)\n",
    "            new_candidates = []\n",
    "            for j in range(i+1, len(candidates)): # идём по оставшимся кандидатам\n",
    "                # оставляем в новых кандидатах только те вершины, у которых есть ребро с добавляемой вершиной \"i\" (с вершинами в текущей клике у кандидатов уже проверено наличие ребра)\n",
    "                if candidates[j] in self.edges[candidates[i]]: # проверяем, есть ли ребро между добавляемым кандидатом i и его \"кандидатом по соседству\" j\n",
    "                    new_candidates.append(candidates[j]) # если ребро есть, значит эту вершину j мы можем добавить на следующей итерации алгоритма (j останется в кандидатах на следующем уровне DFS)\n",
    "            self.cur_clique.append(candidates[i]) # добавляем вершину i в клику\n",
    "            self.recursive_bnb(new_candidates) # рекурсивно вызываем BnB для оставшихся кандидатов (идём вглубь)\n",
    "            self.cur_clique.remove(candidates[i]) # убираем добавленную вершину в клику для перехода к следующему (соседнему) элементу в DFS рекурсии\n",
    "    \n",
    "\n",
    "    def get_best_solution(self) -> tuple:\n",
    "        \"\"\"\n",
    "        Функция, возвращающая лучшее найденное решение.\\n\n",
    "        Returns:\n",
    "            * tuple: решение вида (размер клики, [вершины в клике])\n",
    "        \"\"\"\n",
    "        return len(self.best_clique), self.best_clique"
   ]
  },
  {
   "cell_type": "markdown",
   "metadata": {},
   "source": [
    "### 2) Branch and Bound общего назначения (с использованием cplex)"
   ]
  },
  {
   "cell_type": "code",
   "execution_count": null,
   "metadata": {},
   "outputs": [],
   "source": [
    "class BranchAndBound():\n",
    "    def __init__(self, edges: dict, heuristic_for_init_sol: callable) -> None: # инициализация модели для решения задачи\n",
    "        \"\"\"\n",
    "        Конструктор для модели.\\n\n",
    "        Parameters:\n",
    "            * edges: словарь смежных вершинам вершин\n",
    "            * heuristic_for_init_sol: функция, что будет использоваться для нахождения первичного решения\\n\n",
    "        Returns:\n",
    "            * None: создаёт модель\n",
    "        \"\"\"\n",
    "        self.model = Model(name=\"Linear Program\") # cplex модель для задачи\n",
    "        self.heuristic_for_init_sol = heuristic_for_init_sol # эвристическая функция для поиска начального решения\n",
    "        self.edges = edges # данные о изначальном графе (словарь смежных вершинам вершин)\n",
    "        self.num_vertices = len(edges) # число вершин в графе\n",
    "        self.best_clique = [] # текущая лучшая клика\n",
    "        self.cur_clique = [] # текущая рассматриваемая клика\n",
    "\n",
    "        self.vars = np.full(shape=(self.num_vertices), fill_value=None) # создаём массив под переменные-вершины\n",
    "        for v in range(self.num_vertices): # добавляем в модель непрерывные переменные\n",
    "            self.vars[v] = self.model.continuous_var(name=f\"x{v}\", lb=0, ub=1) # добавляем непрерывные переменные-вершины x{v}, v от 0 до число_вершин_в_графе-1 (-1 из-за нумерации с нуля), что могут принимать значение в диапазоне [lb=0, ub=1]\n",
    "\n",
    "        self.model.set_objective(\"max\", sum(self.vars)) # добавляем целевую функцию в cplex модель - максимизация суммы переменных\n",
    "\n",
    "\n",
    "    def calc_initial_solution(self, data) -> None:\n",
    "        \"\"\"\n",
    "        Функция для поиска начального решения.\\n\n",
    "        Parameters:\n",
    "            * data: дополнительные параметры, что будут отправлены в функцию поиска начального решения\\n\n",
    "        Returns:\n",
    "            * None: обновляет best_clique\n",
    "        \"\"\"\n",
    "        _, self.best_clique = self.heuristic_for_init_sol(self.edges, *data) # запоминаем содержимое найденной клики (размер будем брать через len, так как это всё равно за O(1))\n",
    "\n",
    "    \n",
    "    def initialize_bnb(self) -> None:\n",
    "        \"\"\"\n",
    "        Функция инициализации Branch and Bound алгоритма для точного поиска максимальной клики.\\n\n",
    "        Returns:\n",
    "            * None: обновляет best_clique\n",
    "        \"\"\"\n",
    "        candidates = list(range(self.num_vertices)) # изначально кандидаты в клику — все возможные вершины\n",
    "        random.shuffle(candidates) # случайно перемешиваем кандидатов\n",
    "        self.recursive_bnb(candidates) # запускаем рекурсивный BnB алгоритм (DFS search)\n",
    "\n",
    "    \n",
    "    def recursive_bnb(self, candidates) -> None:\n",
    "        \"\"\"\n",
    "        Функция для запуска точного алгоритма Branch and Bound.\\n\n",
    "        Parameters:\n",
    "            * candidates: возможные кандидаты для добавления в клику\\n\n",
    "        Returns:\n",
    "            * None: обновляет best_clique\n",
    "        \"\"\"\n",
    "\n",
    "        if len(candidates) == 0: # если кандидатов не осталось — мы в листе BnB алгоритма\n",
    "            if len(self.cur_clique) > len(self.best_clique): # если клика в листе получилась лучше — обновляем лучшую\n",
    "                self.best_clique = self.cur_clique.copy() # запоминаем содержимое клики\n",
    "            return # выходим из рекурсии, так как кандидатов не осталось\n",
    "        \n",
    "        if len(self.cur_clique) + len(candidates) <= len(self.best_clique): # проверка на UB (перестаём рассматривать ветку, если её ответ в любом случае не улучшит максимальную клику)\n",
    "            return\n",
    "        \n",
    "        for i in range(len(candidates)): # идём по возможным кандидатам (ветвление)\n",
    "            new_candidates = []\n",
    "            for j in range(i+1, len(candidates)): # идём по оставшимся кандидатам\n",
    "                # оставляем в новых кандидатах только те вершины, у которых есть ребро с добавляемой вершиной \"i\" (с вершинами в текущей клике у кандидатов уже проверено наличие ребра)\n",
    "                if candidates[j] in self.edges[candidates[i]]: # проверяем, есть ли ребро между добавляемым кандидатом i и его \"кандидатом по соседству\" j\n",
    "                    new_candidates.append(candidates[j]) # если ребро есть, значит эту вершину j мы можем добавить на следующей итерации алгоритма (j останется в кандидатах на следующем уровне DFS)\n",
    "            self.cur_clique.append(candidates[i]) # добавляем вершину i в клику\n",
    "            self.recursive_bnb(new_candidates) # рекурсивно вызываем BnB для оставшихся кандидатов (идём вглубь)\n",
    "            self.cur_clique.remove(candidates[i]) # убираем добавленную вершину в клику для перехода к следующему (соседнему) элементу в DFS рекурсии\n",
    "    \n",
    "\n",
    "    def get_best_solution(self) -> tuple:\n",
    "        \"\"\"\n",
    "        Функция, возвращающая лучшее найденное решение.\\n\n",
    "        Returns:\n",
    "            * tuple: решение вида (размер клики, [вершины в клике])\n",
    "        \"\"\"\n",
    "        return len(self.best_clique), self.best_clique"
   ]
  },
  {
   "cell_type": "markdown",
   "metadata": {},
   "source": [
    "# Тестирование"
   ]
  },
  {
   "cell_type": "code",
   "execution_count": 20,
   "metadata": {},
   "outputs": [],
   "source": [
    "solutions = {} \n",
    "# словарь для ответов алгоритма\n",
    "# {\"название датасета\" : \n",
    "#     {\"clique_size\": размер клики,\n",
    "#      \"clique\": [вершины, входящие в клику],\n",
    "#      \"time\": время на подсчёт\n",
    "#     }\n",
    "# }"
   ]
  },
  {
   "cell_type": "code",
   "execution_count": 21,
   "metadata": {},
   "outputs": [],
   "source": [
    "runs = 1"
   ]
  },
  {
   "cell_type": "code",
   "execution_count": 24,
   "metadata": {},
   "outputs": [
    {
     "name": "stderr",
     "output_type": "stream",
     "text": [
      "  0%|          | 0/6 [00:00<?, ?it/s]"
     ]
    },
    {
     "name": "stdout",
     "output_type": "stream",
     "text": [
      "brock200_2\n",
      "эвристическое решение (12, [104, 182, 134, 54, 120, 119, 26, 148, 47, 144, 157, 69])\n"
     ]
    },
    {
     "name": "stderr",
     "output_type": "stream",
     "text": [
      " 17%|█▋        | 1/6 [00:04<00:21,  4.28s/it]"
     ]
    },
    {
     "name": "stdout",
     "output_type": "stream",
     "text": [
      "BnB решение (12, [104, 182, 134, 54, 120, 119, 26, 148, 47, 144, 157, 69])\n",
      "brock200_3\n",
      "эвристическое решение (13, [50, 188, 59, 165, 146, 38, 82, 100, 132, 152, 47, 56, 28])\n"
     ]
    },
    {
     "name": "stderr",
     "output_type": "stream",
     "text": [
      " 33%|███▎      | 2/6 [01:07<02:35, 38.87s/it]"
     ]
    },
    {
     "name": "stdout",
     "output_type": "stream",
     "text": [
      "BnB решение (15, [97, 103, 28, 129, 172, 117, 11, 57, 177, 96, 143, 83, 157, 35, 37])\n",
      "johnson8-2-4\n",
      "эвристическое решение (4, [6, 23, 20, 4])\n",
      "BnB решение (4, [6, 23, 20, 4])\n",
      "johnson16-2-4\n",
      "эвристическое решение (8, [68, 109, 10, 16, 44, 98, 88, 58])\n"
     ]
    },
    {
     "name": "stderr",
     "output_type": "stream",
     "text": [
      " 67%|██████▋   | 4/6 [02:27<01:19, 39.77s/it]"
     ]
    },
    {
     "name": "stdout",
     "output_type": "stream",
     "text": [
      "BnB решение (8, [68, 109, 10, 16, 44, 98, 88, 58])\n",
      "MANN_a9\n",
      "эвристическое решение (16, [4, 8, 12, 36, 32, 39, 42, 1, 5, 24, 35, 21, 9, 28, 16, 18])\n"
     ]
    },
    {
     "name": "stderr",
     "output_type": "stream",
     "text": [
      " 83%|████████▎ | 5/6 [02:45<00:32, 32.88s/it]"
     ]
    },
    {
     "name": "stdout",
     "output_type": "stream",
     "text": [
      "BnB решение (16, [4, 8, 12, 36, 32, 39, 42, 1, 5, 24, 35, 21, 9, 28, 16, 18])\n",
      "keller4\n",
      "эвристическое решение (11, [95, 65, 66, 139, 149, 167, 155, 134, 46, 48, 41])\n"
     ]
    },
    {
     "name": "stderr",
     "output_type": "stream",
     "text": [
      "100%|██████████| 6/6 [03:46<00:00, 37.72s/it]"
     ]
    },
    {
     "name": "stdout",
     "output_type": "stream",
     "text": [
      "BnB решение (11, [95, 65, 66, 139, 149, 167, 155, 134, 46, 48, 41])\n"
     ]
    },
    {
     "name": "stderr",
     "output_type": "stream",
     "text": [
      "\n"
     ]
    }
   ],
   "source": [
    "for dataset in tqdm(data.keys()): # идём по тест-кейсам\n",
    "# for dataset in [\"johnson8-2-4\", \"brock200_2\", \"brock200_3\"]:\n",
    "    # print(dataset)\n",
    "    time_start = time.time() # замеряем время начала выполнения\n",
    "    for i in range(runs): # делаем runs запусков для усреднения времени\n",
    "        bnb_model = BranchAndBound(edges=data[dataset][\"edges\"], heuristic_for_init_sol=randomized_greedy_max_clique) # создаём объект для модели\n",
    "        bnb_model.calc_initial_solution([iterations]) # запускаем поиск начального решения с передачей следующих параметров - (iterations)\n",
    "        # print(f\"эвристическое решение {bnb_model.get_best_solution()}\")\n",
    "        bnb_model.initialize_bnb() # запускаем Branch and Bound алгоритм\n",
    "        # print(f\"BnB решение {bnb_model.get_best_solution()}\")\n",
    "    time_end = time.time() - time_start # считаем, сколько работал алгоритм\n",
    "    solution = bnb_model.get_best_solution() # берём полученное решение у модели\n",
    "    check_solution(edges=data[dataset][\"edges\"], solution=solution) # проверка решения\n",
    "    # # print(\"original solution\", sol)\n",
    "    solution = transform_solution(solution) # сортирует вершины клики в порядке возрастания их номера и возвращает нумерацию с единицы\n",
    "    # print(\"transformed solution\", sol)\n",
    "    solutions[dataset] = {\"clique_size\": solution[0], \"clique\": solution[1], \"time\": time_end/runs} # добавление"
   ]
  },
  {
   "cell_type": "code",
   "execution_count": null,
   "metadata": {},
   "outputs": [
    {
     "data": {
      "text/plain": [
       "{'brock200_2': {'clique_size': 10,\n",
       "  'clique': [61, 84, 90, 102, 108, 112, 132, 161, 183, 194],\n",
       "  'time': 2.9272008419036863},\n",
       " 'brock200_3': {'clique_size': 13,\n",
       "  'clique': [34, 42, 80, 81, 85, 97, 130, 133, 136, 147, 165, 173, 197],\n",
       "  'time': 31.692399168014525},\n",
       " 'johnson8-2-4': {'clique_size': 4,\n",
       "  'clique': [2, 8, 21, 25],\n",
       "  'time': 0.04351387023925781},\n",
       " 'johnson16-2-4': {'clique_size': 8,\n",
       "  'clique': [6, 20, 23, 34, 66, 76, 105, 106],\n",
       "  'time': 28.633553171157835},\n",
       " 'MANN_a9': {'clique_size': 16,\n",
       "  'clique': [2, 4, 5, 8, 10, 15, 18, 21, 22, 26, 30, 33, 35, 38, 40, 45],\n",
       "  'time': 1.4123371124267579},\n",
       " 'keller4': {'clique_size': 11,\n",
       "  'clique': [33, 35, 38, 47, 52, 54, 143, 144, 149, 165, 168],\n",
       "  'time': 25.853962850570678}}"
      ]
     },
     "execution_count": 80,
     "metadata": {},
     "output_type": "execute_result"
    }
   ],
   "source": [
    "solutions"
   ]
  },
  {
   "cell_type": "code",
   "execution_count": 55,
   "metadata": {},
   "outputs": [
    {
     "name": "stdout",
     "output_type": "stream",
     "text": [
      "objective: 28.000\n",
      "  x0=1.000\n",
      "  x1=1.000\n",
      "  x2=1.000\n",
      "  x3=1.000\n",
      "  x4=1.000\n",
      "  x5=1.000\n",
      "  x6=1.000\n",
      "  x7=1.000\n",
      "  x8=1.000\n",
      "  x9=1.000\n",
      "  x10=1.000\n",
      "  x11=1.000\n",
      "  x12=1.000\n",
      "  x13=1.000\n",
      "  x14=1.000\n",
      "  x15=1.000\n",
      "  x16=1.000\n",
      "  x17=1.000\n",
      "  x18=1.000\n",
      "  x19=1.000\n",
      "  x20=1.000\n",
      "  x21=1.000\n",
      "  x22=1.000\n",
      "  x23=1.000\n",
      "  x24=1.000\n",
      "  x25=1.000\n",
      "  x26=1.000\n",
      "  x27=1.000\n"
     ]
    }
   ],
   "source": [
    "bnb_model.model.solve()\n",
    "bnb_model.model.print_solution()"
   ]
  },
  {
   "cell_type": "code",
   "execution_count": 30,
   "metadata": {},
   "outputs": [],
   "source": [
    "def smallest_degree_last_with_remove_v1(edges: dict): # на вход - словарь смежных вершине вершин\n",
    "    # сортируем smallest degree last with remove\n",
    "    edges_sorted = {}\n",
    "\n",
    "    vertices = edges.keys() # список вершин\n",
    "\n",
    "    vertices_degrees = [len(edges[v]) for v in vertices] # создаём список степеней вершин (индекс - номер вершины (-1), так как ожидается, что на входе edges остортирован в порядке увеличения номера вершины)\n",
    "    vertices_degrees_ids = sorted(range(len(vertices_degrees)), key=vertices_degrees.__getitem__, reverse=True) # создаём список номеров вершин (-1) в порядке уменьшения их степеней\n",
    "    max_id = len(vertices_degrees_ids) - 1 # максимальное id, до которого можно двигаться вправо в списке\n",
    "\n",
    "#    print(\"edges\", edges)\n",
    "#    print(\"vertices_degrees:    \", vertices_degrees)\n",
    "#    print(\"vertices_degrees_ids:\", vertices_degrees_ids)\n",
    "\n",
    "    for id in range(len(vertices)): # просто итерируемся столько раз, сколько у нас вершин\n",
    "        vertex = vertices_degrees_ids[id] # рассматриваемая вершина (её номер на 1 меньше, чем должен быть из-за нумерации с нуля) с максимальной степенью\n",
    "        edges_sorted[vertex+1] = edges[vertex+1] # копируем её в новый-отсортированный словарь\n",
    "\n",
    "        # как бы убираем рассматриваемую вершину из графа\n",
    "        vertices_degrees[vertex] = -1 # ставим этой вершине степень -1 (для упрощения дальнейшей работы, так как у всех нерассмотренных вершин степень не будет меньше нуля)\n",
    "        for v in edges[vertex+1]: # идём по смежным вершинам\n",
    "#            print(\"before change\")\n",
    "#            print(\"vertex\", vertex, \"Рассматриваемая вершина\", vertex+1)\n",
    "#            print(\"v                 смежная вершина\", v)\n",
    "#            print(\"vertices_degrees     \", vertices_degrees)\n",
    "#            print(\"vertices_degrees_ids:\", vertices_degrees_ids)\n",
    "\n",
    "            vertices_degrees[v-1] -= 1 # понижаем их степени (v-1 так как  нумерация в vertices_degrees идёт с нуля, а не с единицы)\n",
    "\n",
    "            # а также меняем их позицию в списке vertices_degrees_ids\n",
    "            v_in_vertices_degrees_ids = vertices_degrees_ids.index(v-1) # находим позицию смежной вершины в списке вершин, отсортированных по убыванию их степеней (чтобы потом относительно неё рассматривать вершины с меньшей степенью)\n",
    "            \n",
    "#            print(\"v_in_vertices_degrees_ids\", v_in_vertices_degrees_ids)\n",
    "\n",
    "            while (v_in_vertices_degrees_ids < max_id) and (-1 < vertices_degrees[v-1] < vertices_degrees[vertices_degrees_ids[v_in_vertices_degrees_ids+1]]): # пока у вершины правее степень больше, сдвигаем рассматриваемую смежную в сторону уменьшения степени\n",
    "\n",
    "                vertices_degrees_ids[v_in_vertices_degrees_ids], vertices_degrees_ids[v_in_vertices_degrees_ids+1] = vertices_degrees_ids[v_in_vertices_degrees_ids+1], vertices_degrees_ids[v_in_vertices_degrees_ids] # делаем swap вершин в списке, отсортированном по убыванию их степеней\n",
    "                v_in_vertices_degrees_ids += 1 # переходим к вершине правее (чья степень меньше или равна рассматриваемой смежной)\n",
    "#            print(\"after change\")\n",
    "#            print(\"vertices_degrees     \", vertices_degrees)\n",
    "#            print(\"vertices_degrees_ids:\", vertices_degrees_ids)\n",
    "#        print(\"-------------------------\")\n",
    "#    print(\"vertices_degrees\", vertices_degrees)\n",
    "#    print(\"edges_sorted\", edges_sorted)\n",
    "    return edges_sorted\n",
    "\n",
    "\n",
    "def smallest_degree_last_with_remove_v2(edges: dict): # на вход - словарь смежных вершине вершин\n",
    "    # сортируем smallest degree last with remove\n",
    "    edges_sorted = {}\n",
    "\n",
    "    vertices = edges.keys() # список вершин\n",
    "\n",
    "    vertices_degrees = [len(edges[v]) for v in vertices] # создаём список степеней вершин (индекс - номер вершины (-1), так как ожидается, что на входе edges остортирован в порядке увеличения номера вершины)\n",
    "    \n",
    "    for i in range(len(vertices)): # просто итерируемся столько раз, сколько у нас вершин\n",
    "        vertex = vertices_degrees.index(max(vertices_degrees)) # берём вершину с самой большой степенью\n",
    "        vertices_degrees[vertex] = -1 # ставим малую степень найденной вершине (она больше ни разу не будет выбрана)\n",
    "        edges_sorted[vertex+1] = edges[vertex+1] # копируем рассматриваемую вершину в новый-отсортированный словарь\n",
    "        for v in edges[vertex+1]: # идём по смежным вершинам\n",
    "            vertices_degrees[v-1] -= 1 # понижаем их степени (v-1 так как  нумерация в vertices_degrees идёт с нуля, а не с единицы)\n",
    "#    print(\"edges_sorted\", edges_sorted)\n",
    "    return edges_sorted"
   ]
  },
  {
   "cell_type": "code",
   "execution_count": 29,
   "metadata": {},
   "outputs": [
    {
     "data": {
      "text/plain": [
       "{5: {4, 7, 8, 9, 10, 11},\n",
       " 6: {1, 12, 13, 14, 15, 16},\n",
       " 1: {2, 3, 4, 6},\n",
       " 4: {1, 2, 3, 5},\n",
       " 3: {1, 2, 4},\n",
       " 2: {1, 3, 4},\n",
       " 16: {6},\n",
       " 15: {6},\n",
       " 14: {6},\n",
       " 13: {6},\n",
       " 12: {6},\n",
       " 11: {5},\n",
       " 10: {5},\n",
       " 9: {5},\n",
       " 8: {5},\n",
       " 7: {5}}"
      ]
     },
     "execution_count": 29,
     "metadata": {},
     "output_type": "execute_result"
    }
   ],
   "source": [
    "edges = {1:{2,3,4,6}, 2:{1,3,4}, 3:{1,2,4}, 4:{1,2,3,5}, 5:{4,7,8,9,10,11}, 6:{1,12,13,14,15,16}, 7:{5}, 8:{5}, 9:{5}, 10:{5}, 11:{5}, 12:{6}, 13:{6}, 14:{6}, 15:{6}, 16:{6}}\n",
    "smallest_degree_last_with_remove_v1(edges)"
   ]
  },
  {
   "cell_type": "code",
   "execution_count": 31,
   "metadata": {},
   "outputs": [
    {
     "data": {
      "text/plain": [
       "{5: {4, 7, 8, 9, 10, 11},\n",
       " 6: {1, 12, 13, 14, 15, 16},\n",
       " 1: {2, 3, 4, 6},\n",
       " 2: {1, 3, 4},\n",
       " 3: {1, 2, 4},\n",
       " 4: {1, 2, 3, 5},\n",
       " 7: {5},\n",
       " 8: {5},\n",
       " 9: {5},\n",
       " 10: {5},\n",
       " 11: {5},\n",
       " 12: {6},\n",
       " 13: {6},\n",
       " 14: {6},\n",
       " 15: {6},\n",
       " 16: {6}}"
      ]
     },
     "execution_count": 31,
     "metadata": {},
     "output_type": "execute_result"
    }
   ],
   "source": [
    "edges = {1:{2,3,4,6}, 2:{1,3,4}, 3:{1,2,4}, 4:{1,2,3,5}, 5:{4,7,8,9,10,11}, 6:{1,12,13,14,15,16}, 7:{5}, 8:{5}, 9:{5}, 10:{5}, 11:{5}, 12:{6}, 13:{6}, 14:{6}, 15:{6}, 16:{6}}\n",
    "smallest_degree_last_with_remove_v2(edges)"
   ]
  },
  {
   "cell_type": "code",
   "execution_count": null,
   "metadata": {},
   "outputs": [],
   "source": [
    "def smallest_degree_last_with_remove_v2(edges: dict): # на вход - словарь смежных вершине вершин\n",
    "    # сортируем smallest degree last with remove\n",
    "    edges_sorted = {}\n",
    "\n",
    "    vertices = edges.keys() # список вершин\n",
    "\n",
    "    vertices_degrees = [len(edges[v]) for v in vertices] # создаём список степеней вершин (индекс - номер вершины (-1), так как ожидается, что на входе edges остортирован в порядке увеличения номера вершины)\n",
    "    \n",
    "    for i in range(len(vertices)): # просто итерируемся столько раз, сколько у нас вершин\n",
    "        vertex = vertices_degrees.index(max(vertices_degrees)) # берём вершину с самой большой степенью\n",
    "        vertices_degrees[vertex] = -1 # ставим малую степень найденной вершине (она больше ни разу не будет выбрана)\n",
    "        edges_sorted[vertex+1] = edges[vertex+1] # копируем рассматриваемую вершину в новый-отсортированный словарь\n",
    "        for v in edges[vertex+1]: # идём по смежным вершинам\n",
    "            vertices_degrees[v-1] -= 1 # понижаем их степени (v-1 так как  нумерация в vertices_degrees идёт с нуля, а не с единицы)\n",
    "#    print(\"edges_sorted\", edges_sorted)\n",
    "    return edges_sorted"
   ]
  },
  {
   "cell_type": "code",
   "execution_count": 50,
   "metadata": {},
   "outputs": [],
   "source": [
    "def smallest_degree_last_with_remove_v3(edges: dict): # на вход - словарь смежных вершине вершин\n",
    "    # сортируем smallest degree last with remove\n",
    "    edges_sorted = {}\n",
    "\n",
    "    vertices = edges.keys() # список вершин\n",
    "    vertices_sorted = np.full(shape=(len(vertices)), fill_value=-1, dtype=np.int16) # заготовка под номера вершин (массив пока заполнен значением -1)\n",
    "\n",
    "    vertices_degrees = [len(edges[v]) for v in vertices] # создаём список степеней вершин (индекс - номер вершины (-1), так как ожидается, что на входе edges остортирован в порядке увеличения номера вершины)\n",
    "    \n",
    "    for i in range(len(vertices)-1, -1, -1): # просто итерируемся столько раз, сколько у нас вершин (но с конца: len(vertices)-1 - максимальный индекс, с которого будем идти (-1 чтобы не выйти за рамки массива); -1 по какой индекс идём не включительно (то есть до нуля); -1 шаг)\n",
    "        vertex = vertices_degrees.index(min(vertices_degrees)) # берём вершину с самой малой степенью\n",
    "        vertices_sorted[i] = vertex # записываем вершину на i-ую позицию с конца\n",
    "        vertices_degrees[vertex] = np.inf # ставим такую степень найденной вершине, чтобы она больше ни разу не была выбрана\n",
    "        for v in edges[vertex]: # идём по смежным вершинам\n",
    "            vertices_degrees[v] -= 1 # понижаем их степени (v-1 так как  нумерация в vertices_degrees идёт с нуля, а не с единицы)\n",
    "\n",
    "    for vertex in vertices_sorted: # идём по отсортированному smallest degree last with remove массиву вершин\n",
    "        edges_sorted[vertex+1] = edges[vertex+1] # копируем вершину в новый-отсортированный словарь\n",
    "\n",
    "#    print(\"edges_sorted\", edges_sorted)\n",
    "    return edges_sorted"
   ]
  },
  {
   "cell_type": "code",
   "execution_count": 51,
   "metadata": {},
   "outputs": [
    {
     "data": {
      "text/plain": [
       "{3: {0, 1, 2, 4},\n",
       " 2: {0, 1, 3},\n",
       " 1: {0, 2, 3},\n",
       " 0: {1, 2, 3, 5},\n",
       " 5: {0, 11, 12, 13, 14, 15},\n",
       " 15: {5},\n",
       " 14: {5},\n",
       " 13: {5},\n",
       " 12: {5},\n",
       " 11: {5},\n",
       " 4: {3, 6, 7, 8, 9, 10},\n",
       " 10: {4},\n",
       " 9: {4},\n",
       " 8: {4},\n",
       " 7: {4},\n",
       " 6: {4}}"
      ]
     },
     "execution_count": 51,
     "metadata": {},
     "output_type": "execute_result"
    }
   ],
   "source": [
    "edges = {0:{1,2,3,5}, 1:{0,2,3}, 2:{0,1,3}, 3:{0,1,2,4}, 4:{3,6,7,8,9,10}, 5:{0,11,12,13,14,15}, 6:{4}, 7:{4}, 8:{4}, 9:{4}, 10:{4}, 11:{5}, 12:{5}, 13:{5}, 14:{5}, 15:{5}}\n",
    "smallest_degree_last_with_remove_v3(edges)"
   ]
  },
  {
   "cell_type": "code",
   "execution_count": 52,
   "metadata": {},
   "outputs": [
    {
     "ename": "IndexError",
     "evalue": "list index out of range",
     "output_type": "error",
     "traceback": [
      "\u001b[1;31m---------------------------------------------------------------------------\u001b[0m",
      "\u001b[1;31mIndexError\u001b[0m                                Traceback (most recent call last)",
      "\u001b[1;32mc:\\Users\\User\\Desktop\\документы\\учёба\\магистратура (ИАД 2023-2025)\\курс 1\\1) Дискретная оптимизация и исследование операций\\labs\\lab4\\task4.ipynb Cell 32\u001b[0m line \u001b[0;36m2\n\u001b[0;32m      <a href='vscode-notebook-cell:/c%3A/Users/User/Desktop/%D0%B4%D0%BE%D0%BA%D1%83%D0%BC%D0%B5%D0%BD%D1%82%D1%8B/%D1%83%D1%87%D1%91%D0%B1%D0%B0/%D0%BC%D0%B0%D0%B3%D0%B8%D1%81%D1%82%D1%80%D0%B0%D1%82%D1%83%D1%80%D0%B0%20%28%D0%98%D0%90%D0%94%202023-2025%29/%D0%BA%D1%83%D1%80%D1%81%201/1%29%20%D0%94%D0%B8%D1%81%D0%BA%D1%80%D0%B5%D1%82%D0%BD%D0%B0%D1%8F%20%D0%BE%D0%BF%D1%82%D0%B8%D0%BC%D0%B8%D0%B7%D0%B0%D1%86%D0%B8%D1%8F%20%D0%B8%20%D0%B8%D1%81%D1%81%D0%BB%D0%B5%D0%B4%D0%BE%D0%B2%D0%B0%D0%BD%D0%B8%D0%B5%20%D0%BE%D0%BF%D0%B5%D1%80%D0%B0%D1%86%D0%B8%D0%B9/labs/lab4/task4.ipynb#Y112sZmlsZQ%3D%3D?line=0'>1</a>\u001b[0m edges \u001b[39m=\u001b[39m {\u001b[39m1\u001b[39m:{\u001b[39m2\u001b[39m,\u001b[39m3\u001b[39m,\u001b[39m4\u001b[39m,\u001b[39m6\u001b[39m}, \u001b[39m2\u001b[39m:{\u001b[39m1\u001b[39m,\u001b[39m3\u001b[39m,\u001b[39m4\u001b[39m}, \u001b[39m3\u001b[39m:{\u001b[39m1\u001b[39m,\u001b[39m2\u001b[39m,\u001b[39m4\u001b[39m}, \u001b[39m4\u001b[39m:{\u001b[39m1\u001b[39m,\u001b[39m2\u001b[39m,\u001b[39m3\u001b[39m,\u001b[39m5\u001b[39m}, \u001b[39m5\u001b[39m:{\u001b[39m4\u001b[39m,\u001b[39m7\u001b[39m,\u001b[39m8\u001b[39m,\u001b[39m9\u001b[39m,\u001b[39m10\u001b[39m,\u001b[39m11\u001b[39m}, \u001b[39m6\u001b[39m:{\u001b[39m1\u001b[39m,\u001b[39m12\u001b[39m,\u001b[39m13\u001b[39m,\u001b[39m14\u001b[39m,\u001b[39m15\u001b[39m,\u001b[39m16\u001b[39m}, \u001b[39m7\u001b[39m:{\u001b[39m5\u001b[39m}, \u001b[39m8\u001b[39m:{\u001b[39m5\u001b[39m}, \u001b[39m9\u001b[39m:{\u001b[39m5\u001b[39m}, \u001b[39m10\u001b[39m:{\u001b[39m5\u001b[39m}, \u001b[39m11\u001b[39m:{\u001b[39m5\u001b[39m}, \u001b[39m12\u001b[39m:{\u001b[39m6\u001b[39m}, \u001b[39m13\u001b[39m:{\u001b[39m6\u001b[39m}, \u001b[39m14\u001b[39m:{\u001b[39m6\u001b[39m}, \u001b[39m15\u001b[39m:{\u001b[39m6\u001b[39m}, \u001b[39m16\u001b[39m:{\u001b[39m6\u001b[39m}}\n\u001b[1;32m----> <a href='vscode-notebook-cell:/c%3A/Users/User/Desktop/%D0%B4%D0%BE%D0%BA%D1%83%D0%BC%D0%B5%D0%BD%D1%82%D1%8B/%D1%83%D1%87%D1%91%D0%B1%D0%B0/%D0%BC%D0%B0%D0%B3%D0%B8%D1%81%D1%82%D1%80%D0%B0%D1%82%D1%83%D1%80%D0%B0%20%28%D0%98%D0%90%D0%94%202023-2025%29/%D0%BA%D1%83%D1%80%D1%81%201/1%29%20%D0%94%D0%B8%D1%81%D0%BA%D1%80%D0%B5%D1%82%D0%BD%D0%B0%D1%8F%20%D0%BE%D0%BF%D1%82%D0%B8%D0%BC%D0%B8%D0%B7%D0%B0%D1%86%D0%B8%D1%8F%20%D0%B8%20%D0%B8%D1%81%D1%81%D0%BB%D0%B5%D0%B4%D0%BE%D0%B2%D0%B0%D0%BD%D0%B8%D0%B5%20%D0%BE%D0%BF%D0%B5%D1%80%D0%B0%D1%86%D0%B8%D0%B9/labs/lab4/task4.ipynb#Y112sZmlsZQ%3D%3D?line=1'>2</a>\u001b[0m smallest_degree_last_with_remove_v3(edges)\n",
      "\u001b[1;32mc:\\Users\\User\\Desktop\\документы\\учёба\\магистратура (ИАД 2023-2025)\\курс 1\\1) Дискретная оптимизация и исследование операций\\labs\\lab4\\task4.ipynb Cell 32\u001b[0m line \u001b[0;36m1\n\u001b[0;32m     <a href='vscode-notebook-cell:/c%3A/Users/User/Desktop/%D0%B4%D0%BE%D0%BA%D1%83%D0%BC%D0%B5%D0%BD%D1%82%D1%8B/%D1%83%D1%87%D1%91%D0%B1%D0%B0/%D0%BC%D0%B0%D0%B3%D0%B8%D1%81%D1%82%D1%80%D0%B0%D1%82%D1%83%D1%80%D0%B0%20%28%D0%98%D0%90%D0%94%202023-2025%29/%D0%BA%D1%83%D1%80%D1%81%201/1%29%20%D0%94%D0%B8%D1%81%D0%BA%D1%80%D0%B5%D1%82%D0%BD%D0%B0%D1%8F%20%D0%BE%D0%BF%D1%82%D0%B8%D0%BC%D0%B8%D0%B7%D0%B0%D1%86%D0%B8%D1%8F%20%D0%B8%20%D0%B8%D1%81%D1%81%D0%BB%D0%B5%D0%B4%D0%BE%D0%B2%D0%B0%D0%BD%D0%B8%D0%B5%20%D0%BE%D0%BF%D0%B5%D1%80%D0%B0%D1%86%D0%B8%D0%B9/labs/lab4/task4.ipynb#Y112sZmlsZQ%3D%3D?line=12'>13</a>\u001b[0m     vertices_degrees[vertex] \u001b[39m=\u001b[39m np\u001b[39m.\u001b[39minf \u001b[39m# ставим такую степень найденной вершине, чтобы она больше ни разу не была выбрана\u001b[39;00m\n\u001b[0;32m     <a href='vscode-notebook-cell:/c%3A/Users/User/Desktop/%D0%B4%D0%BE%D0%BA%D1%83%D0%BC%D0%B5%D0%BD%D1%82%D1%8B/%D1%83%D1%87%D1%91%D0%B1%D0%B0/%D0%BC%D0%B0%D0%B3%D0%B8%D1%81%D1%82%D1%80%D0%B0%D1%82%D1%83%D1%80%D0%B0%20%28%D0%98%D0%90%D0%94%202023-2025%29/%D0%BA%D1%83%D1%80%D1%81%201/1%29%20%D0%94%D0%B8%D1%81%D0%BA%D1%80%D0%B5%D1%82%D0%BD%D0%B0%D1%8F%20%D0%BE%D0%BF%D1%82%D0%B8%D0%BC%D0%B8%D0%B7%D0%B0%D1%86%D0%B8%D1%8F%20%D0%B8%20%D0%B8%D1%81%D1%81%D0%BB%D0%B5%D0%B4%D0%BE%D0%B2%D0%B0%D0%BD%D0%B8%D0%B5%20%D0%BE%D0%BF%D0%B5%D1%80%D0%B0%D1%86%D0%B8%D0%B9/labs/lab4/task4.ipynb#Y112sZmlsZQ%3D%3D?line=13'>14</a>\u001b[0m     \u001b[39mfor\u001b[39;00m v \u001b[39min\u001b[39;00m edges[vertex]: \u001b[39m# идём по смежным вершинам\u001b[39;00m\n\u001b[1;32m---> <a href='vscode-notebook-cell:/c%3A/Users/User/Desktop/%D0%B4%D0%BE%D0%BA%D1%83%D0%BC%D0%B5%D0%BD%D1%82%D1%8B/%D1%83%D1%87%D1%91%D0%B1%D0%B0/%D0%BC%D0%B0%D0%B3%D0%B8%D1%81%D1%82%D1%80%D0%B0%D1%82%D1%83%D1%80%D0%B0%20%28%D0%98%D0%90%D0%94%202023-2025%29/%D0%BA%D1%83%D1%80%D1%81%201/1%29%20%D0%94%D0%B8%D1%81%D0%BA%D1%80%D0%B5%D1%82%D0%BD%D0%B0%D1%8F%20%D0%BE%D0%BF%D1%82%D0%B8%D0%BC%D0%B8%D0%B7%D0%B0%D1%86%D0%B8%D1%8F%20%D0%B8%20%D0%B8%D1%81%D1%81%D0%BB%D0%B5%D0%B4%D0%BE%D0%B2%D0%B0%D0%BD%D0%B8%D0%B5%20%D0%BE%D0%BF%D0%B5%D1%80%D0%B0%D1%86%D0%B8%D0%B9/labs/lab4/task4.ipynb#Y112sZmlsZQ%3D%3D?line=14'>15</a>\u001b[0m         vertices_degrees[v] \u001b[39m-\u001b[39m\u001b[39m=\u001b[39m \u001b[39m1\u001b[39m \u001b[39m# понижаем их степени (v-1 так как  нумерация в vertices_degrees идёт с нуля, а не с единицы)\u001b[39;00m\n\u001b[0;32m     <a href='vscode-notebook-cell:/c%3A/Users/User/Desktop/%D0%B4%D0%BE%D0%BA%D1%83%D0%BC%D0%B5%D0%BD%D1%82%D1%8B/%D1%83%D1%87%D1%91%D0%B1%D0%B0/%D0%BC%D0%B0%D0%B3%D0%B8%D1%81%D1%82%D1%80%D0%B0%D1%82%D1%83%D1%80%D0%B0%20%28%D0%98%D0%90%D0%94%202023-2025%29/%D0%BA%D1%83%D1%80%D1%81%201/1%29%20%D0%94%D0%B8%D1%81%D0%BA%D1%80%D0%B5%D1%82%D0%BD%D0%B0%D1%8F%20%D0%BE%D0%BF%D1%82%D0%B8%D0%BC%D0%B8%D0%B7%D0%B0%D1%86%D0%B8%D1%8F%20%D0%B8%20%D0%B8%D1%81%D1%81%D0%BB%D0%B5%D0%B4%D0%BE%D0%B2%D0%B0%D0%BD%D0%B8%D0%B5%20%D0%BE%D0%BF%D0%B5%D1%80%D0%B0%D1%86%D0%B8%D0%B9/labs/lab4/task4.ipynb#Y112sZmlsZQ%3D%3D?line=16'>17</a>\u001b[0m \u001b[39mfor\u001b[39;00m vertex \u001b[39min\u001b[39;00m vertices_sorted: \u001b[39m# идём по отсортированному smallest degree last with remove массиву вершин\u001b[39;00m\n\u001b[0;32m     <a href='vscode-notebook-cell:/c%3A/Users/User/Desktop/%D0%B4%D0%BE%D0%BA%D1%83%D0%BC%D0%B5%D0%BD%D1%82%D1%8B/%D1%83%D1%87%D1%91%D0%B1%D0%B0/%D0%BC%D0%B0%D0%B3%D0%B8%D1%81%D1%82%D1%80%D0%B0%D1%82%D1%83%D1%80%D0%B0%20%28%D0%98%D0%90%D0%94%202023-2025%29/%D0%BA%D1%83%D1%80%D1%81%201/1%29%20%D0%94%D0%B8%D1%81%D0%BA%D1%80%D0%B5%D1%82%D0%BD%D0%B0%D1%8F%20%D0%BE%D0%BF%D1%82%D0%B8%D0%BC%D0%B8%D0%B7%D0%B0%D1%86%D0%B8%D1%8F%20%D0%B8%20%D0%B8%D1%81%D1%81%D0%BB%D0%B5%D0%B4%D0%BE%D0%B2%D0%B0%D0%BD%D0%B8%D0%B5%20%D0%BE%D0%BF%D0%B5%D1%80%D0%B0%D1%86%D0%B8%D0%B9/labs/lab4/task4.ipynb#Y112sZmlsZQ%3D%3D?line=17'>18</a>\u001b[0m     edges_sorted[vertex] \u001b[39m=\u001b[39m edges[vertex] \u001b[39m# собираем обратно edges\u001b[39;00m\n",
      "\u001b[1;31mIndexError\u001b[0m: list index out of range"
     ]
    }
   ],
   "source": [
    "edges = {1:{2,3,4,6}, 2:{1,3,4}, 3:{1,2,4}, 4:{1,2,3,5}, 5:{4,7,8,9,10,11}, 6:{1,12,13,14,15,16}, 7:{5}, 8:{5}, 9:{5}, 10:{5}, 11:{5}, 12:{6}, 13:{6}, 14:{6}, 15:{6}, 16:{6}}\n",
    "smallest_degree_last_with_remove_v3(edges)"
   ]
  },
  {
   "cell_type": "code",
   "execution_count": null,
   "metadata": {},
   "outputs": [],
   "source": []
  }
 ],
 "metadata": {
  "kernelspec": {
   "display_name": "gpu",
   "language": "python",
   "name": "python3"
  },
  "language_info": {
   "codemirror_mode": {
    "name": "ipython",
    "version": 3
   },
   "file_extension": ".py",
   "mimetype": "text/x-python",
   "name": "python",
   "nbconvert_exporter": "python",
   "pygments_lexer": "ipython3",
   "version": "3.8.18"
  }
 },
 "nbformat": 4,
 "nbformat_minor": 2
}
